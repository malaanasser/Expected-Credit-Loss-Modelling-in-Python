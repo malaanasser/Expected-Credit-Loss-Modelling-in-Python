{
 "cells": [
  {
   "cell_type": "markdown",
   "id": "e83f90f7-1a56-4759-a913-a6d51b299d1f",
   "metadata": {},
   "source": [
    "## Introduction"
   ]
  },
  {
   "cell_type": "markdown",
   "id": "6169760b-fd6a-4a52-b665-66af4826b6ac",
   "metadata": {},
   "source": [
    "In this segment, we will be using the processed data from the data preparation exercise to fit and validate our Probability of Default (PD) model, capitalising on the coarse_classed variables we established in the processing exercise. There are three sections to this notebook:\n",
    "- Introduction\n",
    "- PD Model Development: logistic regression\n",
    "- Model Validation\n",
    "- Transforming the Model into a Scorecard"
   ]
  },
  {
   "cell_type": "markdown",
   "id": "735bf629-c581-40aa-9df0-a30cdc56de66",
   "metadata": {},
   "source": [
    "<br>\n",
    "\n",
    "## PD Model Development"
   ]
  },
  {
   "cell_type": "markdown",
   "id": "211fc36c-a4cb-4ba9-9bfc-fee47bf62912",
   "metadata": {},
   "source": [
    "In this section, we will be fitting a logistic regression model to predict the PD as well as the class of the borrower. We will also handle different issues that can cause errors in our modeling exercise."
   ]
  },
  {
   "cell_type": "code",
   "execution_count": 37,
   "id": "4b579bac-1ffa-4bf8-a4ae-212a9ce7db7d",
   "metadata": {},
   "outputs": [],
   "source": [
    "#Loading the needed librraries\n",
    "import pandas as pd\n",
    "import numpy as np\n",
    "import matplotlib.pyplot as plt\n",
    "import seaborn as sns\n",
    "sns.set()"
   ]
  },
  {
   "cell_type": "markdown",
   "id": "a513f724-f97f-4ed6-950a-1d5fdbd74cd6",
   "metadata": {},
   "source": [
    "We import our training and test datasets from the data processing exercise."
   ]
  },
  {
   "cell_type": "code",
   "execution_count": 38,
   "id": "a7170bd9-2ab1-4a1d-8db0-ea56aaab7eae",
   "metadata": {},
   "outputs": [],
   "source": [
    "X_train = pd.read_csv('X_train.csv')\n",
    "X_test = pd.read_csv('X_test.csv')\n",
    "y_train = pd.read_csv('y_train.csv')\n",
    "y_test = pd.read_csv('y_test.csv')"
   ]
  },
  {
   "cell_type": "markdown",
   "id": "22e17247-bce6-403e-b478-c22a868e64b6",
   "metadata": {},
   "source": [
    "We print the dimensions of our training and testing data to ensure everything is in order"
   ]
  },
  {
   "cell_type": "code",
   "execution_count": 39,
   "id": "4995ca20-9598-47ec-a228-59e4e3f3f73a",
   "metadata": {},
   "outputs": [
    {
     "name": "stdout",
     "output_type": "stream",
     "text": [
      "(373028, 81)\n",
      "(373028, 1)\n",
      "(93257, 81)\n",
      "(93257, 1)\n"
     ]
    }
   ],
   "source": [
    "print(X_train.shape)\n",
    "print(y_train.shape)\n",
    "print(X_test.shape)\n",
    "print(y_test.shape)"
   ]
  },
  {
   "cell_type": "markdown",
   "id": "3b18ac0f-98dc-4440-a36e-b6939b4ca70a",
   "metadata": {
    "scrolled": true
   },
   "source": [
    "<br>\n",
    "To get a list of the reference categories for our dummy variables, we take the first dummy belonging to each of the predictor variables."
   ]
  },
  {
   "cell_type": "code",
   "execution_count": 40,
   "id": "be0b76f1-0bda-49c4-81f6-53571d714f98",
   "metadata": {},
   "outputs": [
    {
     "data": {
      "text/plain": [
       "['Grade:_A',\n",
       " 'home_ownership:_MORTGAGE',\n",
       " 'addr_state:_AL',\n",
       " 'verif:_Not Verified',\n",
       " 'purpose:_cred-card',\n",
       " 'init_list_status:_f',\n",
       " 'term:_36',\n",
       " 'empLength: _(-inf, 0.0]',\n",
       " 'mths_sinc_issue:_(-inf, 0.0]',\n",
       " 'int_rate: _(5, 10]',\n",
       " 'annual_inc: _0k-20k',\n",
       " 'DtI: _(8, 12]',\n",
       " 'mths_last_record: _(0.0, 70.0]']"
      ]
     },
     "execution_count": 40,
     "metadata": {},
     "output_type": "execute_result"
    }
   ],
   "source": [
    "seen_categories = []\n",
    "ref_categories = []\n",
    "\n",
    "for col in X_test.columns.values[1:]:\n",
    "    variable = col.split(':')[0]\n",
    "    if variable not in seen_categories:\n",
    "        seen_categories.append(variable)\n",
    "        ref_categories.append(col)\n",
    "\n",
    "ref_categories"
   ]
  },
  {
   "cell_type": "markdown",
   "id": "ec016260-cd28-441b-97cc-d08234da4175",
   "metadata": {},
   "source": [
    "We add an intercept column of 1s to our training and testing data."
   ]
  },
  {
   "cell_type": "code",
   "execution_count": 41,
   "id": "a6ef2ef4-b7a7-4195-8697-32cc67254c7f",
   "metadata": {},
   "outputs": [],
   "source": [
    "#Add constant for intercept\n",
    "X_train_with_const = X_train.drop(ref_categories + ['id'], axis = 1)\n",
    "X_train_with_const.insert(0, 'intercept', 1)\n",
    "X_train_with_const['intercept'] = X_train_with_const.intercept.astype(bool)\n",
    "\n",
    "\n",
    "## Add constant and drop the reference categories from the testing data\n",
    "X_test_with_const = X_test.drop(ref_categories + ['id'], axis = 1)\n",
    "X_test_with_const.insert(0, 'intercept', 1)\n",
    "X_test_with_const['intercept'] = X_test_with_const.intercept.astype(bool)\n"
   ]
  },
  {
   "cell_type": "markdown",
   "id": "395b6a8d-9ca9-4a7e-90dc-121f2af3f9cb",
   "metadata": {},
   "source": [
    "- We can fit the logistic regression model using the statsmodels module using two functions:\n",
    "    - sm.GLM()\n",
    "    - sm.Logit()\n",
    "\n",
    "The first method will not require any further processing from our side. The second however will yield an error if we have dummy columns that have no values (i.e. constant variance). The approach for the first method is commented out below."
   ]
  },
  {
   "cell_type": "code",
   "execution_count": 42,
   "id": "9532bb53-3487-4e70-831e-4e0667a70bc2",
   "metadata": {},
   "outputs": [
    {
     "name": "stdout",
     "output_type": "stream",
     "text": [
      "Determinant of Correlation Matrix: nan\n"
     ]
    },
    {
     "name": "stderr",
     "output_type": "stream",
     "text": [
      "/home/mohammad/Desktop/Practice/venv/lib/python3.12/site-packages/numpy/linalg/_linalg.py:2432: RuntimeWarning: invalid value encountered in det\n",
      "  r = _umath_linalg.det(a, signature=signature)\n"
     ]
    }
   ],
   "source": [
    "\n",
    "# To ensure that we don't have a singular X_train matrix, we need to check if determinant of the correlation matrix exists and is not 0.\n",
    "# Below we get nan, indicating that we have columns with no variance\n",
    "corr_matrix = X_train_with_const.corr()\n",
    "det_corr = np.linalg.det(corr_matrix)\n",
    "print(f\"Determinant of Correlation Matrix: {det_corr}\")"
   ]
  },
  {
   "cell_type": "markdown",
   "id": "48a0e218-e606-47e2-a5e8-3ce92d12a543",
   "metadata": {},
   "source": [
    "<br>\n",
    "To use the sm.logit() function, we check columns that have zero variance (i.e. one unique value throughout). We see that aside from the intercept, we have two columns that needs to be removed as they contain no data."
   ]
  },
  {
   "cell_type": "code",
   "execution_count": 43,
   "id": "5130783c-ae59-4899-ace8-217a4464f619",
   "metadata": {},
   "outputs": [
    {
     "name": "stdout",
     "output_type": "stream",
     "text": [
      "Constant columns: ['empLength: _(10.0, inf]', 'mths_last_record: _(130.0, inf]']\n"
     ]
    }
   ],
   "source": [
    "# Get column names where the number of unique values is 1\n",
    "zero_var_cols = X_train_with_const.columns[X_train_with_const.nunique() == 1]\n",
    "zero_var_cols = zero_var_cols.tolist() # convert columns' names to a list\n",
    "zero_var_cols = [col for col in zero_var_cols if col != 'intercept']\n",
    "print(\"Constant columns:\", zero_var_cols)\n",
    "\n",
    "# Remove constant columns Except the intercept\n",
    "X_train_with_const  = X_train_with_const.drop(zero_var_cols, axis = 1)\n",
    "X_test_with_const  = X_test_with_const.drop(zero_var_cols, axis = 1)\n",
    "\n",
    "# Use the following to ensure X_train_with_const is a Proper NumPy Array\n",
    "# WARNING: SHOULD DO THE SAME FOR TESTING DATA- SEE Cell 439\n",
    "#X_train_with_const = X_train_with_const.astype(float)"
   ]
  },
  {
   "cell_type": "markdown",
   "id": "796e40e8-91ab-4f36-ab08-6669fe54155e",
   "metadata": {},
   "source": [
    "<br>\n",
    "Finally, we can fit our logistic regression model with the remaining predictors."
   ]
  },
  {
   "cell_type": "code",
   "execution_count": 44,
   "id": "2c98aaf1-bcc9-4bce-b7ab-f471c2dc4476",
   "metadata": {
    "scrolled": true
   },
   "outputs": [
    {
     "name": "stdout",
     "output_type": "stream",
     "text": [
      "Optimization terminated successfully.\n",
      "         Current function value: 0.321633\n",
      "         Iterations 7\n"
     ]
    },
    {
     "data": {
      "text/html": [
       "<table class=\"simpletable\">\n",
       "<caption>Logit Regression Results</caption>\n",
       "<tr>\n",
       "  <th>Dep. Variable:</th>       <td>good_bad</td>     <th>  No. Observations:  </th>   <td>373028</td>   \n",
       "</tr>\n",
       "<tr>\n",
       "  <th>Model:</th>                 <td>Logit</td>      <th>  Df Residuals:      </th>   <td>372963</td>   \n",
       "</tr>\n",
       "<tr>\n",
       "  <th>Method:</th>                 <td>MLE</td>       <th>  Df Model:          </th>   <td>    64</td>   \n",
       "</tr>\n",
       "<tr>\n",
       "  <th>Date:</th>            <td>Thu, 03 Apr 2025</td> <th>  Pseudo R-squ.:     </th>   <td>0.06782</td>  \n",
       "</tr>\n",
       "<tr>\n",
       "  <th>Time:</th>                <td>19:10:42</td>     <th>  Log-Likelihood:    </th> <td>-1.1998e+05</td>\n",
       "</tr>\n",
       "<tr>\n",
       "  <th>converged:</th>             <td>True</td>       <th>  LL-Null:           </th> <td>-1.2871e+05</td>\n",
       "</tr>\n",
       "<tr>\n",
       "  <th>Covariance Type:</th>     <td>nonrobust</td>    <th>  LLR p-value:       </th>   <td> 0.000</td>   \n",
       "</tr>\n",
       "</table>\n",
       "<table class=\"simpletable\">\n",
       "<tr>\n",
       "                               <td></td>                                 <th>coef</th>     <th>std err</th>      <th>z</th>      <th>P>|z|</th>  <th>[0.025</th>    <th>0.975]</th>  \n",
       "</tr>\n",
       "<tr>\n",
       "  <th>intercept</th>                                                  <td>   -2.8763</td> <td>      nan</td> <td>      nan</td> <td>   nan</td> <td>      nan</td> <td>      nan</td>\n",
       "</tr>\n",
       "<tr>\n",
       "  <th>Grade:_B</th>                                                   <td>    0.5423</td> <td>    0.037</td> <td>   14.599</td> <td> 0.000</td> <td>    0.469</td> <td>    0.615</td>\n",
       "</tr>\n",
       "<tr>\n",
       "  <th>Grade:_C</th>                                                   <td>    0.8967</td> <td>    0.040</td> <td>   22.330</td> <td> 0.000</td> <td>    0.818</td> <td>    0.975</td>\n",
       "</tr>\n",
       "<tr>\n",
       "  <th>Grade:_D</th>                                                   <td>    1.1592</td> <td>    0.043</td> <td>   26.852</td> <td> 0.000</td> <td>    1.075</td> <td>    1.244</td>\n",
       "</tr>\n",
       "<tr>\n",
       "  <th>Grade:_E</th>                                                   <td>    1.4264</td> <td>    0.046</td> <td>   30.860</td> <td> 0.000</td> <td>    1.336</td> <td>    1.517</td>\n",
       "</tr>\n",
       "<tr>\n",
       "  <th>Grade:_F</th>                                                   <td>    1.6831</td> <td>    0.050</td> <td>   33.618</td> <td> 0.000</td> <td>    1.585</td> <td>    1.781</td>\n",
       "</tr>\n",
       "<tr>\n",
       "  <th>Grade:_G</th>                                                   <td>    2.0808</td> <td>    0.053</td> <td>   39.124</td> <td> 0.000</td> <td>    1.977</td> <td>    2.185</td>\n",
       "</tr>\n",
       "<tr>\n",
       "  <th>home_ownership:_OWN</th>                                        <td>    0.0325</td> <td>    0.020</td> <td>    1.619</td> <td> 0.105</td> <td>   -0.007</td> <td>    0.072</td>\n",
       "</tr>\n",
       "<tr>\n",
       "  <th>home_ownership:_Othr_Own_Any</th>                               <td>    0.1725</td> <td>    0.227</td> <td>    0.760</td> <td> 0.447</td> <td>   -0.272</td> <td>    0.617</td>\n",
       "</tr>\n",
       "<tr>\n",
       "  <th>home_ownership:_RENT</th>                                       <td>    0.1180</td> <td>    0.013</td> <td>    9.370</td> <td> 0.000</td> <td>    0.093</td> <td>    0.143</td>\n",
       "</tr>\n",
       "<tr>\n",
       "  <th>addr_state:_CA</th>                                             <td>   -0.0554</td> <td>    0.048</td> <td>   -1.159</td> <td> 0.247</td> <td>   -0.149</td> <td>    0.038</td>\n",
       "</tr>\n",
       "<tr>\n",
       "  <th>addr_state:_FL</th>                                             <td>    0.0395</td> <td>    0.050</td> <td>    0.797</td> <td> 0.426</td> <td>   -0.058</td> <td>    0.137</td>\n",
       "</tr>\n",
       "<tr>\n",
       "  <th>addr_state:_IL_AK_VT_SC_CO_KS_MS_WV_NH_WY_DC</th>               <td>   -0.2959</td> <td>    0.049</td> <td>   -6.038</td> <td> 0.000</td> <td>   -0.392</td> <td>   -0.200</td>\n",
       "</tr>\n",
       "<tr>\n",
       "  <th>addr_state:_MA_WA_WI_IN_GA</th>                                 <td>   -0.1275</td> <td>    0.049</td> <td>   -2.623</td> <td> 0.009</td> <td>   -0.223</td> <td>   -0.032</td>\n",
       "</tr>\n",
       "<tr>\n",
       "  <th>addr_state:_MD</th>                                             <td>    0.0149</td> <td>    0.057</td> <td>    0.261</td> <td> 0.794</td> <td>   -0.097</td> <td>    0.126</td>\n",
       "</tr>\n",
       "<tr>\n",
       "  <th>addr_state:_MO_TN_RI_AR_UT_PA_SD_OK_OH_KY_MN</th>               <td>   -0.0939</td> <td>    0.048</td> <td>   -1.977</td> <td> 0.048</td> <td>   -0.187</td> <td>   -0.001</td>\n",
       "</tr>\n",
       "<tr>\n",
       "  <th>addr_state:_NC</th>                                             <td>   -0.0129</td> <td>    0.055</td> <td>   -0.233</td> <td> 0.816</td> <td>   -0.121</td> <td>    0.095</td>\n",
       "</tr>\n",
       "<tr>\n",
       "  <th>addr_state:_NE_ID_ME_IA_NV_HI</th>                              <td>    0.1040</td> <td>    0.058</td> <td>    1.802</td> <td> 0.072</td> <td>   -0.009</td> <td>    0.217</td>\n",
       "</tr>\n",
       "<tr>\n",
       "  <th>addr_state:_NM_NJ_LA_DE_VA_MI_AZ</th>                           <td>   -0.0261</td> <td>    0.048</td> <td>   -0.546</td> <td> 0.585</td> <td>   -0.120</td> <td>    0.067</td>\n",
       "</tr>\n",
       "<tr>\n",
       "  <th>addr_state:_NY</th>                                             <td>   -0.0169</td> <td>    0.049</td> <td>   -0.344</td> <td> 0.731</td> <td>   -0.113</td> <td>    0.079</td>\n",
       "</tr>\n",
       "<tr>\n",
       "  <th>addr_state:_OR_CT_MT</th>                                       <td>   -0.2008</td> <td>    0.056</td> <td>   -3.612</td> <td> 0.000</td> <td>   -0.310</td> <td>   -0.092</td>\n",
       "</tr>\n",
       "<tr>\n",
       "  <th>addr_state:_TX</th>                                             <td>   -0.2204</td> <td>    0.050</td> <td>   -4.412</td> <td> 0.000</td> <td>   -0.318</td> <td>   -0.122</td>\n",
       "</tr>\n",
       "<tr>\n",
       "  <th>verif:_Source Verified</th>                                     <td>    0.0961</td> <td>    0.015</td> <td>    6.408</td> <td> 0.000</td> <td>    0.067</td> <td>    0.126</td>\n",
       "</tr>\n",
       "<tr>\n",
       "  <th>verif:_Verified</th>                                            <td>    0.0987</td> <td>    0.015</td> <td>    6.766</td> <td> 0.000</td> <td>    0.070</td> <td>    0.127</td>\n",
       "</tr>\n",
       "<tr>\n",
       "  <th>purpose:_debt-cons</th>                                         <td>    0.1204</td> <td>    0.015</td> <td>    8.294</td> <td> 0.000</td> <td>    0.092</td> <td>    0.149</td>\n",
       "</tr>\n",
       "<tr>\n",
       "  <th>purpose:_educ_rene-ener_movi_hous_medi_wedd_vaca_smal-busi</th> <td>    0.2846</td> <td>    0.025</td> <td>   11.355</td> <td> 0.000</td> <td>    0.235</td> <td>    0.334</td>\n",
       "</tr>\n",
       "<tr>\n",
       "  <th>purpose:_home-impr</th>                                         <td>    0.1148</td> <td>    0.027</td> <td>    4.193</td> <td> 0.000</td> <td>    0.061</td> <td>    0.169</td>\n",
       "</tr>\n",
       "<tr>\n",
       "  <th>purpose:_majo-purc_car</th>                                     <td>   -0.0350</td> <td>    0.035</td> <td>   -1.013</td> <td> 0.311</td> <td>   -0.103</td> <td>    0.033</td>\n",
       "</tr>\n",
       "<tr>\n",
       "  <th>purpose:_othe</th>                                              <td>    0.1249</td> <td>    0.026</td> <td>    4.893</td> <td> 0.000</td> <td>    0.075</td> <td>    0.175</td>\n",
       "</tr>\n",
       "<tr>\n",
       "  <th>init_list_status:_w</th>                                        <td>   -0.0627</td> <td>    0.013</td> <td>   -4.847</td> <td> 0.000</td> <td>   -0.088</td> <td>   -0.037</td>\n",
       "</tr>\n",
       "<tr>\n",
       "  <th>term:_60</th>                                                   <td>    0.0639</td> <td>    0.014</td> <td>    4.634</td> <td> 0.000</td> <td>    0.037</td> <td>    0.091</td>\n",
       "</tr>\n",
       "<tr>\n",
       "  <th>empLength: _(0.0, 1.0]</th>                                     <td>   -0.0979</td> <td>    0.026</td> <td>   -3.778</td> <td> 0.000</td> <td>   -0.149</td> <td>   -0.047</td>\n",
       "</tr>\n",
       "<tr>\n",
       "  <th>empLength: _(1.0, 4.0]</th>                                     <td>   -0.1025</td> <td>    0.019</td> <td>   -5.465</td> <td> 0.000</td> <td>   -0.139</td> <td>   -0.066</td>\n",
       "</tr>\n",
       "<tr>\n",
       "  <th>empLength: _(4.0, 8.0]</th>                                     <td>   -0.0774</td> <td>    0.019</td> <td>   -4.123</td> <td> 0.000</td> <td>   -0.114</td> <td>   -0.041</td>\n",
       "</tr>\n",
       "<tr>\n",
       "  <th>empLength: _(8.0, 9.0]</th>                                     <td>   -0.0193</td> <td>    0.031</td> <td>   -0.624</td> <td> 0.533</td> <td>   -0.080</td> <td>    0.041</td>\n",
       "</tr>\n",
       "<tr>\n",
       "  <th>empLength: _(9.0, 10.0]</th>                                    <td>   -0.1391</td> <td>    0.018</td> <td>   -7.597</td> <td> 0.000</td> <td>   -0.175</td> <td>   -0.103</td>\n",
       "</tr>\n",
       "<tr>\n",
       "  <th>mths_sinc_issue:_(0.0, 38.0]</th>                               <td>   -1.1280</td> <td>      nan</td> <td>      nan</td> <td>   nan</td> <td>      nan</td> <td>      nan</td>\n",
       "</tr>\n",
       "<tr>\n",
       "  <th>mths_sinc_issue:_(38.0, 40.0]</th>                              <td>   -0.9110</td> <td>      nan</td> <td>      nan</td> <td>   nan</td> <td>      nan</td> <td>      nan</td>\n",
       "</tr>\n",
       "<tr>\n",
       "  <th>mths_sinc_issue:_(40.0, 45.0]</th>                              <td>   -0.6957</td> <td>      nan</td> <td>      nan</td> <td>   nan</td> <td>      nan</td> <td>      nan</td>\n",
       "</tr>\n",
       "<tr>\n",
       "  <th>mths_sinc_issue:_(45.0, 55.0]</th>                              <td>   -0.4096</td> <td>      nan</td> <td>      nan</td> <td>   nan</td> <td>      nan</td> <td>      nan</td>\n",
       "</tr>\n",
       "<tr>\n",
       "  <th>mths_sinc_issue:_(55.0, 110.0]</th>                             <td>   -0.0341</td> <td>      nan</td> <td>      nan</td> <td>   nan</td> <td>      nan</td> <td>      nan</td>\n",
       "</tr>\n",
       "<tr>\n",
       "  <th>mths_sinc_issue:_(110.0, inf]</th>                              <td>    0.3022</td> <td>      nan</td> <td>      nan</td> <td>   nan</td> <td>      nan</td> <td>      nan</td>\n",
       "</tr>\n",
       "<tr>\n",
       "  <th>int_rate: _(10, 15]</th>                                        <td>    0.1465</td> <td>    0.032</td> <td>    4.605</td> <td> 0.000</td> <td>    0.084</td> <td>    0.209</td>\n",
       "</tr>\n",
       "<tr>\n",
       "  <th>int_rate: _(15, 20]</th>                                        <td>    0.2663</td> <td>    0.035</td> <td>    7.519</td> <td> 0.000</td> <td>    0.197</td> <td>    0.336</td>\n",
       "</tr>\n",
       "<tr>\n",
       "  <th>int_rate: _(20, 25]</th>                                        <td>    0.2648</td> <td>    0.041</td> <td>    6.484</td> <td> 0.000</td> <td>    0.185</td> <td>    0.345</td>\n",
       "</tr>\n",
       "<tr>\n",
       "  <th>annual_inc: _20k-29k</th>                                       <td>    0.0583</td> <td>    0.044</td> <td>    1.315</td> <td> 0.189</td> <td>   -0.029</td> <td>    0.145</td>\n",
       "</tr>\n",
       "<tr>\n",
       "  <th>annual_inc: _29k-38k</th>                                       <td>   -0.0046</td> <td>    0.041</td> <td>   -0.112</td> <td> 0.911</td> <td>   -0.086</td> <td>    0.076</td>\n",
       "</tr>\n",
       "<tr>\n",
       "  <th>annual_inc: _38k-47k</th>                                       <td>   -0.0795</td> <td>    0.041</td> <td>   -1.940</td> <td> 0.052</td> <td>   -0.160</td> <td>    0.001</td>\n",
       "</tr>\n",
       "<tr>\n",
       "  <th>annual_inc: _47k-56k</th>                                       <td>   -0.1715</td> <td>    0.041</td> <td>   -4.174</td> <td> 0.000</td> <td>   -0.252</td> <td>   -0.091</td>\n",
       "</tr>\n",
       "<tr>\n",
       "  <th>annual_inc: _56k-64k</th>                                       <td>   -0.1812</td> <td>    0.042</td> <td>   -4.272</td> <td> 0.000</td> <td>   -0.264</td> <td>   -0.098</td>\n",
       "</tr>\n",
       "<tr>\n",
       "  <th>annual_inc: _64k-73k</th>                                       <td>   -0.2928</td> <td>    0.042</td> <td>   -6.911</td> <td> 0.000</td> <td>   -0.376</td> <td>   -0.210</td>\n",
       "</tr>\n",
       "<tr>\n",
       "  <th>annual_inc: _73k-82k</th>                                       <td>   -0.3351</td> <td>    0.043</td> <td>   -7.722</td> <td> 0.000</td> <td>   -0.420</td> <td>   -0.250</td>\n",
       "</tr>\n",
       "<tr>\n",
       "  <th>annual_inc: _82k-91k</th>                                       <td>   -0.4220</td> <td>    0.045</td> <td>   -9.336</td> <td> 0.000</td> <td>   -0.511</td> <td>   -0.333</td>\n",
       "</tr>\n",
       "<tr>\n",
       "  <th>annual_inc: _91k-100k</th>                                      <td>   -0.4199</td> <td>    0.046</td> <td>   -9.065</td> <td> 0.000</td> <td>   -0.511</td> <td>   -0.329</td>\n",
       "</tr>\n",
       "<tr>\n",
       "  <th>annual_inc: _100k+</th>                                         <td>   -0.5358</td> <td>    0.042</td> <td>  -12.661</td> <td> 0.000</td> <td>   -0.619</td> <td>   -0.453</td>\n",
       "</tr>\n",
       "<tr>\n",
       "  <th>DtI: _(12, 16]</th>                                             <td>    0.0731</td> <td>    0.017</td> <td>    4.224</td> <td> 0.000</td> <td>    0.039</td> <td>    0.107</td>\n",
       "</tr>\n",
       "<tr>\n",
       "  <th>DtI: _(16, 20]</th>                                             <td>    0.1495</td> <td>    0.017</td> <td>    8.797</td> <td> 0.000</td> <td>    0.116</td> <td>    0.183</td>\n",
       "</tr>\n",
       "<tr>\n",
       "  <th>DtI: _(20, 24]</th>                                             <td>    0.2114</td> <td>    0.018</td> <td>   12.039</td> <td> 0.000</td> <td>    0.177</td> <td>    0.246</td>\n",
       "</tr>\n",
       "<tr>\n",
       "  <th>DtI: _(24, 28]</th>                                             <td>    0.2717</td> <td>    0.019</td> <td>   13.950</td> <td> 0.000</td> <td>    0.233</td> <td>    0.310</td>\n",
       "</tr>\n",
       "<tr>\n",
       "  <th>DtI: _(28, 32]</th>                                             <td>    0.2633</td> <td>    0.023</td> <td>   11.398</td> <td> 0.000</td> <td>    0.218</td> <td>    0.309</td>\n",
       "</tr>\n",
       "<tr>\n",
       "  <th>DtI: _(32, 40]</th>                                             <td>    0.2414</td> <td>    0.030</td> <td>    8.109</td> <td> 0.000</td> <td>    0.183</td> <td>    0.300</td>\n",
       "</tr>\n",
       "<tr>\n",
       "  <th>mths_last_record: _(70.0, 75.0]</th>                            <td>    0.1158</td> <td>    0.074</td> <td>    1.569</td> <td> 0.117</td> <td>   -0.029</td> <td>    0.261</td>\n",
       "</tr>\n",
       "<tr>\n",
       "  <th>mths_last_record: _(75.0, 85.0]</th>                            <td>    0.2235</td> <td>    0.056</td> <td>    4.014</td> <td> 0.000</td> <td>    0.114</td> <td>    0.333</td>\n",
       "</tr>\n",
       "<tr>\n",
       "  <th>mths_last_record: _(85.0, 95.0]</th>                            <td>    0.3765</td> <td>    0.050</td> <td>    7.553</td> <td> 0.000</td> <td>    0.279</td> <td>    0.474</td>\n",
       "</tr>\n",
       "<tr>\n",
       "  <th>mths_last_record: _(95.0, 130.0]</th>                           <td>    0.2959</td> <td>    0.036</td> <td>    8.318</td> <td> 0.000</td> <td>    0.226</td> <td>    0.366</td>\n",
       "</tr>\n",
       "<tr>\n",
       "  <th>mths_last_record: _Missing</th>                                 <td>    0.2257</td> <td>    0.026</td> <td>    8.557</td> <td> 0.000</td> <td>    0.174</td> <td>    0.277</td>\n",
       "</tr>\n",
       "</table>"
      ],
      "text/latex": [
       "\\begin{center}\n",
       "\\begin{tabular}{lclc}\n",
       "\\toprule\n",
       "\\textbf{Dep. Variable:}                                                     &    good\\_bad     & \\textbf{  No. Observations:  } &    373028    \\\\\n",
       "\\textbf{Model:}                                                             &      Logit       & \\textbf{  Df Residuals:      } &    372963    \\\\\n",
       "\\textbf{Method:}                                                            &       MLE        & \\textbf{  Df Model:          } &        64    \\\\\n",
       "\\textbf{Date:}                                                              & Thu, 03 Apr 2025 & \\textbf{  Pseudo R-squ.:     } &   0.06782    \\\\\n",
       "\\textbf{Time:}                                                              &     19:10:42     & \\textbf{  Log-Likelihood:    } & -1.1998e+05  \\\\\n",
       "\\textbf{converged:}                                                         &       True       & \\textbf{  LL-Null:           } & -1.2871e+05  \\\\\n",
       "\\textbf{Covariance Type:}                                                   &    nonrobust     & \\textbf{  LLR p-value:       } &     0.000    \\\\\n",
       "\\bottomrule\n",
       "\\end{tabular}\n",
       "\\begin{tabular}{lcccccc}\n",
       "                                                                            & \\textbf{coef} & \\textbf{std err} & \\textbf{z} & \\textbf{P$> |$z$|$} & \\textbf{[0.025} & \\textbf{0.975]}  \\\\\n",
       "\\midrule\n",
       "\\textbf{intercept}                                                          &      -2.8763  &          nan     &       nan  &           nan        &          nan    &          nan     \\\\\n",
       "\\textbf{Grade:\\_B}                                                          &       0.5423  &        0.037     &    14.599  &         0.000        &        0.469    &        0.615     \\\\\n",
       "\\textbf{Grade:\\_C}                                                          &       0.8967  &        0.040     &    22.330  &         0.000        &        0.818    &        0.975     \\\\\n",
       "\\textbf{Grade:\\_D}                                                          &       1.1592  &        0.043     &    26.852  &         0.000        &        1.075    &        1.244     \\\\\n",
       "\\textbf{Grade:\\_E}                                                          &       1.4264  &        0.046     &    30.860  &         0.000        &        1.336    &        1.517     \\\\\n",
       "\\textbf{Grade:\\_F}                                                          &       1.6831  &        0.050     &    33.618  &         0.000        &        1.585    &        1.781     \\\\\n",
       "\\textbf{Grade:\\_G}                                                          &       2.0808  &        0.053     &    39.124  &         0.000        &        1.977    &        2.185     \\\\\n",
       "\\textbf{home\\_ownership:\\_OWN}                                              &       0.0325  &        0.020     &     1.619  &         0.105        &       -0.007    &        0.072     \\\\\n",
       "\\textbf{home\\_ownership:\\_Othr\\_Own\\_Any}                                   &       0.1725  &        0.227     &     0.760  &         0.447        &       -0.272    &        0.617     \\\\\n",
       "\\textbf{home\\_ownership:\\_RENT}                                             &       0.1180  &        0.013     &     9.370  &         0.000        &        0.093    &        0.143     \\\\\n",
       "\\textbf{addr\\_state:\\_CA}                                                   &      -0.0554  &        0.048     &    -1.159  &         0.247        &       -0.149    &        0.038     \\\\\n",
       "\\textbf{addr\\_state:\\_FL}                                                   &       0.0395  &        0.050     &     0.797  &         0.426        &       -0.058    &        0.137     \\\\\n",
       "\\textbf{addr\\_state:\\_IL\\_AK\\_VT\\_SC\\_CO\\_KS\\_MS\\_WV\\_NH\\_WY\\_DC}           &      -0.2959  &        0.049     &    -6.038  &         0.000        &       -0.392    &       -0.200     \\\\\n",
       "\\textbf{addr\\_state:\\_MA\\_WA\\_WI\\_IN\\_GA}                                   &      -0.1275  &        0.049     &    -2.623  &         0.009        &       -0.223    &       -0.032     \\\\\n",
       "\\textbf{addr\\_state:\\_MD}                                                   &       0.0149  &        0.057     &     0.261  &         0.794        &       -0.097    &        0.126     \\\\\n",
       "\\textbf{addr\\_state:\\_MO\\_TN\\_RI\\_AR\\_UT\\_PA\\_SD\\_OK\\_OH\\_KY\\_MN}           &      -0.0939  &        0.048     &    -1.977  &         0.048        &       -0.187    &       -0.001     \\\\\n",
       "\\textbf{addr\\_state:\\_NC}                                                   &      -0.0129  &        0.055     &    -0.233  &         0.816        &       -0.121    &        0.095     \\\\\n",
       "\\textbf{addr\\_state:\\_NE\\_ID\\_ME\\_IA\\_NV\\_HI}                               &       0.1040  &        0.058     &     1.802  &         0.072        &       -0.009    &        0.217     \\\\\n",
       "\\textbf{addr\\_state:\\_NM\\_NJ\\_LA\\_DE\\_VA\\_MI\\_AZ}                           &      -0.0261  &        0.048     &    -0.546  &         0.585        &       -0.120    &        0.067     \\\\\n",
       "\\textbf{addr\\_state:\\_NY}                                                   &      -0.0169  &        0.049     &    -0.344  &         0.731        &       -0.113    &        0.079     \\\\\n",
       "\\textbf{addr\\_state:\\_OR\\_CT\\_MT}                                           &      -0.2008  &        0.056     &    -3.612  &         0.000        &       -0.310    &       -0.092     \\\\\n",
       "\\textbf{addr\\_state:\\_TX}                                                   &      -0.2204  &        0.050     &    -4.412  &         0.000        &       -0.318    &       -0.122     \\\\\n",
       "\\textbf{verif:\\_Source Verified}                                            &       0.0961  &        0.015     &     6.408  &         0.000        &        0.067    &        0.126     \\\\\n",
       "\\textbf{verif:\\_Verified}                                                   &       0.0987  &        0.015     &     6.766  &         0.000        &        0.070    &        0.127     \\\\\n",
       "\\textbf{purpose:\\_debt-cons}                                                &       0.1204  &        0.015     &     8.294  &         0.000        &        0.092    &        0.149     \\\\\n",
       "\\textbf{purpose:\\_educ\\_rene-ener\\_movi\\_hous\\_medi\\_wedd\\_vaca\\_smal-busi} &       0.2846  &        0.025     &    11.355  &         0.000        &        0.235    &        0.334     \\\\\n",
       "\\textbf{purpose:\\_home-impr}                                                &       0.1148  &        0.027     &     4.193  &         0.000        &        0.061    &        0.169     \\\\\n",
       "\\textbf{purpose:\\_majo-purc\\_car}                                           &      -0.0350  &        0.035     &    -1.013  &         0.311        &       -0.103    &        0.033     \\\\\n",
       "\\textbf{purpose:\\_othe}                                                     &       0.1249  &        0.026     &     4.893  &         0.000        &        0.075    &        0.175     \\\\\n",
       "\\textbf{init\\_list\\_status:\\_w}                                             &      -0.0627  &        0.013     &    -4.847  &         0.000        &       -0.088    &       -0.037     \\\\\n",
       "\\textbf{term:\\_60}                                                          &       0.0639  &        0.014     &     4.634  &         0.000        &        0.037    &        0.091     \\\\\n",
       "\\textbf{empLength: \\_(0.0, 1.0]}                                            &      -0.0979  &        0.026     &    -3.778  &         0.000        &       -0.149    &       -0.047     \\\\\n",
       "\\textbf{empLength: \\_(1.0, 4.0]}                                            &      -0.1025  &        0.019     &    -5.465  &         0.000        &       -0.139    &       -0.066     \\\\\n",
       "\\textbf{empLength: \\_(4.0, 8.0]}                                            &      -0.0774  &        0.019     &    -4.123  &         0.000        &       -0.114    &       -0.041     \\\\\n",
       "\\textbf{empLength: \\_(8.0, 9.0]}                                            &      -0.0193  &        0.031     &    -0.624  &         0.533        &       -0.080    &        0.041     \\\\\n",
       "\\textbf{empLength: \\_(9.0, 10.0]}                                           &      -0.1391  &        0.018     &    -7.597  &         0.000        &       -0.175    &       -0.103     \\\\\n",
       "\\textbf{mths\\_sinc\\_issue:\\_(0.0, 38.0]}                                    &      -1.1280  &          nan     &       nan  &           nan        &          nan    &          nan     \\\\\n",
       "\\textbf{mths\\_sinc\\_issue:\\_(38.0, 40.0]}                                   &      -0.9110  &          nan     &       nan  &           nan        &          nan    &          nan     \\\\\n",
       "\\textbf{mths\\_sinc\\_issue:\\_(40.0, 45.0]}                                   &      -0.6957  &          nan     &       nan  &           nan        &          nan    &          nan     \\\\\n",
       "\\textbf{mths\\_sinc\\_issue:\\_(45.0, 55.0]}                                   &      -0.4096  &          nan     &       nan  &           nan        &          nan    &          nan     \\\\\n",
       "\\textbf{mths\\_sinc\\_issue:\\_(55.0, 110.0]}                                  &      -0.0341  &          nan     &       nan  &           nan        &          nan    &          nan     \\\\\n",
       "\\textbf{mths\\_sinc\\_issue:\\_(110.0, inf]}                                   &       0.3022  &          nan     &       nan  &           nan        &          nan    &          nan     \\\\\n",
       "\\textbf{int\\_rate: \\_(10, 15]}                                              &       0.1465  &        0.032     &     4.605  &         0.000        &        0.084    &        0.209     \\\\\n",
       "\\textbf{int\\_rate: \\_(15, 20]}                                              &       0.2663  &        0.035     &     7.519  &         0.000        &        0.197    &        0.336     \\\\\n",
       "\\textbf{int\\_rate: \\_(20, 25]}                                              &       0.2648  &        0.041     &     6.484  &         0.000        &        0.185    &        0.345     \\\\\n",
       "\\textbf{annual\\_inc: \\_20k-29k}                                             &       0.0583  &        0.044     &     1.315  &         0.189        &       -0.029    &        0.145     \\\\\n",
       "\\textbf{annual\\_inc: \\_29k-38k}                                             &      -0.0046  &        0.041     &    -0.112  &         0.911        &       -0.086    &        0.076     \\\\\n",
       "\\textbf{annual\\_inc: \\_38k-47k}                                             &      -0.0795  &        0.041     &    -1.940  &         0.052        &       -0.160    &        0.001     \\\\\n",
       "\\textbf{annual\\_inc: \\_47k-56k}                                             &      -0.1715  &        0.041     &    -4.174  &         0.000        &       -0.252    &       -0.091     \\\\\n",
       "\\textbf{annual\\_inc: \\_56k-64k}                                             &      -0.1812  &        0.042     &    -4.272  &         0.000        &       -0.264    &       -0.098     \\\\\n",
       "\\textbf{annual\\_inc: \\_64k-73k}                                             &      -0.2928  &        0.042     &    -6.911  &         0.000        &       -0.376    &       -0.210     \\\\\n",
       "\\textbf{annual\\_inc: \\_73k-82k}                                             &      -0.3351  &        0.043     &    -7.722  &         0.000        &       -0.420    &       -0.250     \\\\\n",
       "\\textbf{annual\\_inc: \\_82k-91k}                                             &      -0.4220  &        0.045     &    -9.336  &         0.000        &       -0.511    &       -0.333     \\\\\n",
       "\\textbf{annual\\_inc: \\_91k-100k}                                            &      -0.4199  &        0.046     &    -9.065  &         0.000        &       -0.511    &       -0.329     \\\\\n",
       "\\textbf{annual\\_inc: \\_100k+}                                               &      -0.5358  &        0.042     &   -12.661  &         0.000        &       -0.619    &       -0.453     \\\\\n",
       "\\textbf{DtI: \\_(12, 16]}                                                    &       0.0731  &        0.017     &     4.224  &         0.000        &        0.039    &        0.107     \\\\\n",
       "\\textbf{DtI: \\_(16, 20]}                                                    &       0.1495  &        0.017     &     8.797  &         0.000        &        0.116    &        0.183     \\\\\n",
       "\\textbf{DtI: \\_(20, 24]}                                                    &       0.2114  &        0.018     &    12.039  &         0.000        &        0.177    &        0.246     \\\\\n",
       "\\textbf{DtI: \\_(24, 28]}                                                    &       0.2717  &        0.019     &    13.950  &         0.000        &        0.233    &        0.310     \\\\\n",
       "\\textbf{DtI: \\_(28, 32]}                                                    &       0.2633  &        0.023     &    11.398  &         0.000        &        0.218    &        0.309     \\\\\n",
       "\\textbf{DtI: \\_(32, 40]}                                                    &       0.2414  &        0.030     &     8.109  &         0.000        &        0.183    &        0.300     \\\\\n",
       "\\textbf{mths\\_last\\_record: \\_(70.0, 75.0]}                                 &       0.1158  &        0.074     &     1.569  &         0.117        &       -0.029    &        0.261     \\\\\n",
       "\\textbf{mths\\_last\\_record: \\_(75.0, 85.0]}                                 &       0.2235  &        0.056     &     4.014  &         0.000        &        0.114    &        0.333     \\\\\n",
       "\\textbf{mths\\_last\\_record: \\_(85.0, 95.0]}                                 &       0.3765  &        0.050     &     7.553  &         0.000        &        0.279    &        0.474     \\\\\n",
       "\\textbf{mths\\_last\\_record: \\_(95.0, 130.0]}                                &       0.2959  &        0.036     &     8.318  &         0.000        &        0.226    &        0.366     \\\\\n",
       "\\textbf{mths\\_last\\_record: \\_Missing}                                      &       0.2257  &        0.026     &     8.557  &         0.000        &        0.174    &        0.277     \\\\\n",
       "\\bottomrule\n",
       "\\end{tabular}\n",
       "%\\caption{Logit Regression Results}\n",
       "\\end{center}"
      ],
      "text/plain": [
       "<class 'statsmodels.iolib.summary.Summary'>\n",
       "\"\"\"\n",
       "                           Logit Regression Results                           \n",
       "==============================================================================\n",
       "Dep. Variable:               good_bad   No. Observations:               373028\n",
       "Model:                          Logit   Df Residuals:                   372963\n",
       "Method:                           MLE   Df Model:                           64\n",
       "Date:                Thu, 03 Apr 2025   Pseudo R-squ.:                 0.06782\n",
       "Time:                        19:10:42   Log-Likelihood:            -1.1998e+05\n",
       "converged:                       True   LL-Null:                   -1.2871e+05\n",
       "Covariance Type:            nonrobust   LLR p-value:                     0.000\n",
       "==============================================================================================================================\n",
       "                                                                 coef    std err          z      P>|z|      [0.025      0.975]\n",
       "------------------------------------------------------------------------------------------------------------------------------\n",
       "intercept                                                     -2.8763        nan        nan        nan         nan         nan\n",
       "Grade:_B                                                       0.5423      0.037     14.599      0.000       0.469       0.615\n",
       "Grade:_C                                                       0.8967      0.040     22.330      0.000       0.818       0.975\n",
       "Grade:_D                                                       1.1592      0.043     26.852      0.000       1.075       1.244\n",
       "Grade:_E                                                       1.4264      0.046     30.860      0.000       1.336       1.517\n",
       "Grade:_F                                                       1.6831      0.050     33.618      0.000       1.585       1.781\n",
       "Grade:_G                                                       2.0808      0.053     39.124      0.000       1.977       2.185\n",
       "home_ownership:_OWN                                            0.0325      0.020      1.619      0.105      -0.007       0.072\n",
       "home_ownership:_Othr_Own_Any                                   0.1725      0.227      0.760      0.447      -0.272       0.617\n",
       "home_ownership:_RENT                                           0.1180      0.013      9.370      0.000       0.093       0.143\n",
       "addr_state:_CA                                                -0.0554      0.048     -1.159      0.247      -0.149       0.038\n",
       "addr_state:_FL                                                 0.0395      0.050      0.797      0.426      -0.058       0.137\n",
       "addr_state:_IL_AK_VT_SC_CO_KS_MS_WV_NH_WY_DC                  -0.2959      0.049     -6.038      0.000      -0.392      -0.200\n",
       "addr_state:_MA_WA_WI_IN_GA                                    -0.1275      0.049     -2.623      0.009      -0.223      -0.032\n",
       "addr_state:_MD                                                 0.0149      0.057      0.261      0.794      -0.097       0.126\n",
       "addr_state:_MO_TN_RI_AR_UT_PA_SD_OK_OH_KY_MN                  -0.0939      0.048     -1.977      0.048      -0.187      -0.001\n",
       "addr_state:_NC                                                -0.0129      0.055     -0.233      0.816      -0.121       0.095\n",
       "addr_state:_NE_ID_ME_IA_NV_HI                                  0.1040      0.058      1.802      0.072      -0.009       0.217\n",
       "addr_state:_NM_NJ_LA_DE_VA_MI_AZ                              -0.0261      0.048     -0.546      0.585      -0.120       0.067\n",
       "addr_state:_NY                                                -0.0169      0.049     -0.344      0.731      -0.113       0.079\n",
       "addr_state:_OR_CT_MT                                          -0.2008      0.056     -3.612      0.000      -0.310      -0.092\n",
       "addr_state:_TX                                                -0.2204      0.050     -4.412      0.000      -0.318      -0.122\n",
       "verif:_Source Verified                                         0.0961      0.015      6.408      0.000       0.067       0.126\n",
       "verif:_Verified                                                0.0987      0.015      6.766      0.000       0.070       0.127\n",
       "purpose:_debt-cons                                             0.1204      0.015      8.294      0.000       0.092       0.149\n",
       "purpose:_educ_rene-ener_movi_hous_medi_wedd_vaca_smal-busi     0.2846      0.025     11.355      0.000       0.235       0.334\n",
       "purpose:_home-impr                                             0.1148      0.027      4.193      0.000       0.061       0.169\n",
       "purpose:_majo-purc_car                                        -0.0350      0.035     -1.013      0.311      -0.103       0.033\n",
       "purpose:_othe                                                  0.1249      0.026      4.893      0.000       0.075       0.175\n",
       "init_list_status:_w                                           -0.0627      0.013     -4.847      0.000      -0.088      -0.037\n",
       "term:_60                                                       0.0639      0.014      4.634      0.000       0.037       0.091\n",
       "empLength: _(0.0, 1.0]                                        -0.0979      0.026     -3.778      0.000      -0.149      -0.047\n",
       "empLength: _(1.0, 4.0]                                        -0.1025      0.019     -5.465      0.000      -0.139      -0.066\n",
       "empLength: _(4.0, 8.0]                                        -0.0774      0.019     -4.123      0.000      -0.114      -0.041\n",
       "empLength: _(8.0, 9.0]                                        -0.0193      0.031     -0.624      0.533      -0.080       0.041\n",
       "empLength: _(9.0, 10.0]                                       -0.1391      0.018     -7.597      0.000      -0.175      -0.103\n",
       "mths_sinc_issue:_(0.0, 38.0]                                  -1.1280        nan        nan        nan         nan         nan\n",
       "mths_sinc_issue:_(38.0, 40.0]                                 -0.9110        nan        nan        nan         nan         nan\n",
       "mths_sinc_issue:_(40.0, 45.0]                                 -0.6957        nan        nan        nan         nan         nan\n",
       "mths_sinc_issue:_(45.0, 55.0]                                 -0.4096        nan        nan        nan         nan         nan\n",
       "mths_sinc_issue:_(55.0, 110.0]                                -0.0341        nan        nan        nan         nan         nan\n",
       "mths_sinc_issue:_(110.0, inf]                                  0.3022        nan        nan        nan         nan         nan\n",
       "int_rate: _(10, 15]                                            0.1465      0.032      4.605      0.000       0.084       0.209\n",
       "int_rate: _(15, 20]                                            0.2663      0.035      7.519      0.000       0.197       0.336\n",
       "int_rate: _(20, 25]                                            0.2648      0.041      6.484      0.000       0.185       0.345\n",
       "annual_inc: _20k-29k                                           0.0583      0.044      1.315      0.189      -0.029       0.145\n",
       "annual_inc: _29k-38k                                          -0.0046      0.041     -0.112      0.911      -0.086       0.076\n",
       "annual_inc: _38k-47k                                          -0.0795      0.041     -1.940      0.052      -0.160       0.001\n",
       "annual_inc: _47k-56k                                          -0.1715      0.041     -4.174      0.000      -0.252      -0.091\n",
       "annual_inc: _56k-64k                                          -0.1812      0.042     -4.272      0.000      -0.264      -0.098\n",
       "annual_inc: _64k-73k                                          -0.2928      0.042     -6.911      0.000      -0.376      -0.210\n",
       "annual_inc: _73k-82k                                          -0.3351      0.043     -7.722      0.000      -0.420      -0.250\n",
       "annual_inc: _82k-91k                                          -0.4220      0.045     -9.336      0.000      -0.511      -0.333\n",
       "annual_inc: _91k-100k                                         -0.4199      0.046     -9.065      0.000      -0.511      -0.329\n",
       "annual_inc: _100k+                                            -0.5358      0.042    -12.661      0.000      -0.619      -0.453\n",
       "DtI: _(12, 16]                                                 0.0731      0.017      4.224      0.000       0.039       0.107\n",
       "DtI: _(16, 20]                                                 0.1495      0.017      8.797      0.000       0.116       0.183\n",
       "DtI: _(20, 24]                                                 0.2114      0.018     12.039      0.000       0.177       0.246\n",
       "DtI: _(24, 28]                                                 0.2717      0.019     13.950      0.000       0.233       0.310\n",
       "DtI: _(28, 32]                                                 0.2633      0.023     11.398      0.000       0.218       0.309\n",
       "DtI: _(32, 40]                                                 0.2414      0.030      8.109      0.000       0.183       0.300\n",
       "mths_last_record: _(70.0, 75.0]                                0.1158      0.074      1.569      0.117      -0.029       0.261\n",
       "mths_last_record: _(75.0, 85.0]                                0.2235      0.056      4.014      0.000       0.114       0.333\n",
       "mths_last_record: _(85.0, 95.0]                                0.3765      0.050      7.553      0.000       0.279       0.474\n",
       "mths_last_record: _(95.0, 130.0]                               0.2959      0.036      8.318      0.000       0.226       0.366\n",
       "mths_last_record: _Missing                                     0.2257      0.026      8.557      0.000       0.174       0.277\n",
       "==============================================================================================================================\n",
       "\"\"\""
      ]
     },
     "execution_count": 44,
     "metadata": {},
     "output_type": "execute_result"
    }
   ],
   "source": [
    "import statsmodels.api as sm\n",
    "\n",
    "# Fitting the model\n",
    "model = sm.Logit(y_train, X_train_with_const).fit()\n",
    "model.summary()"
   ]
  },
  {
   "cell_type": "markdown",
   "id": "49003391-80b1-4bc1-8712-85898daa1dac",
   "metadata": {},
   "source": [
    "#### Saving the model"
   ]
  },
  {
   "cell_type": "code",
   "execution_count": 73,
   "id": "c1b6370b-2cae-4256-941a-e637bc29f334",
   "metadata": {},
   "outputs": [],
   "source": [
    "import pickle\n",
    "\n",
    "with open('PD_model.pkl', 'wb') as f:\n",
    "    pickle.dump(model, f)"
   ]
  },
  {
   "cell_type": "markdown",
   "id": "38ea1446-082b-4328-a686-a9ef51c17062",
   "metadata": {
    "jp-MarkdownHeadingCollapsed": true
   },
   "source": [
    "<br>\n",
    "\n",
    "## Model Validation"
   ]
  },
  {
   "cell_type": "markdown",
   "id": "a546ed91-e6ab-4ae3-b4a4-1d4f88e6024d",
   "metadata": {},
   "source": [
    "### Out-of-sample validation"
   ]
  },
  {
   "cell_type": "markdown",
   "id": "391608bd-ca02-4a77-86fb-d98a632a9bbb",
   "metadata": {},
   "source": [
    "<br>\n",
    "\n",
    "To assess the predictive performance of our model, we use our model to predict the class for the testing data. Then we establish a confusion matrix at a standard cut-off rate of 0.5. Ideally, we would look for a cut-off that maximizes Sensitivity Rate + Specificity Rate (or True Positive Rate + True Neative Rate). However, our focus in this exercise is to maximize default detection. Hence, we will see few cells down how to change the cut-off to maximize Sensitivity Rate."
   ]
  },
  {
   "cell_type": "code",
   "execution_count": 45,
   "id": "814bc698-fdd5-4abd-9c61-bcd021e832a8",
   "metadata": {},
   "outputs": [
    {
     "name": "stdout",
     "output_type": "stream",
     "text": [
      "[[83044    14]\n",
      " [10191     8]]\n"
     ]
    }
   ],
   "source": [
    "from sklearn.metrics import confusion_matrix\n",
    "\n",
    "y_pred_prob = model.predict(X_test_with_const)\n",
    "y_pred_class = (y_pred_prob >= 0.5).astype(int)  # Convert probabilities to binary labels\n",
    "\n",
    "#Generating a confusion matrix\n",
    "conf_matrix = confusion_matrix(y_test, y_pred_class)\n",
    "print(conf_matrix)"
   ]
  },
  {
   "cell_type": "markdown",
   "id": "1ef52e64-b0d1-4859-b277-039721d216c3",
   "metadata": {},
   "source": [
    "We can also print out the Accuracy and Sensitivity (True Positive) Rate of our model."
   ]
  },
  {
   "cell_type": "code",
   "execution_count": 46,
   "id": "29cd883e-927d-4176-81c8-e2c495bf2fc6",
   "metadata": {},
   "outputs": [
    {
     "name": "stdout",
     "output_type": "stream",
     "text": [
      "Accuracy: 0.8906\n",
      "Sensitivity: 0.0008\n"
     ]
    }
   ],
   "source": [
    "from sklearn.metrics import accuracy_score\n",
    "\n",
    "accuracy = accuracy_score(y_test, y_pred_class)\n",
    "print(f\"Accuracy: {accuracy:.4f}\")\n",
    "\n",
    "## Alternative for calculating score\n",
    "# accuracy = (predicted_classes == y_test).mean()\n",
    "# print(f\"Accuracy: {accuracy:.4f}\")\n",
    "\n",
    "# Calculating \"Sensitivity\" or true positive rate\n",
    "Sensitivity = conf_matrix[1,1] / sum(conf_matrix[1:]).sum()\n",
    "print(f'Sensitivity: {Sensitivity:.4f}')\n"
   ]
  },
  {
   "cell_type": "markdown",
   "id": "b7f6c4d3-4558-4c49-93f0-716b454ac972",
   "metadata": {},
   "source": [
    "It can be noted that our model generally has very high accuracy overall. However, our critical performance indicator is the ***true positives rate which is very weak in our model***. This is due to our choice of a moderate cut-off threshold of 0.5. We need to chosse a more conservative cut-off threshold.\n",
    "\n",
    "If we choose a cut-off of 0.1, Sensitivity or True Positive Rate is at 68.6% which is much better at predicting default."
   ]
  },
  {
   "cell_type": "code",
   "execution_count": 47,
   "id": "ae3a29ca-591a-4862-bd88-a72ff305f126",
   "metadata": {},
   "outputs": [
    {
     "name": "stdout",
     "output_type": "stream",
     "text": [
      "[[47332 35726]\n",
      " [ 2867  7332]]\n",
      "Sensitivity: 0.7189\n"
     ]
    }
   ],
   "source": [
    "# Changing our cut-off threshold\n",
    "y_pred_class = (y_pred_prob >= 0.1).astype(int)  # Convert probabilities to binary labels\n",
    "\n",
    "#Generating a confusion matrix\n",
    "conf_matrix = confusion_matrix(y_test, y_pred_class)\n",
    "print(conf_matrix)\n",
    "\n",
    "# Calculating \"Sensitivity\" or true positive rate\n",
    "Sensitivity = conf_matrix[1,1] / sum(conf_matrix[1:]).sum()\n",
    "print(f'Sensitivity: {Sensitivity:.4f}')"
   ]
  },
  {
   "cell_type": "markdown",
   "id": "5efb62c6-020a-453c-afdf-92d8ad4b2f0d",
   "metadata": {},
   "source": [
    "<br>\n",
    "\n",
    "#### Receiver Operating Characteristic (ROC) Curve"
   ]
  },
  {
   "cell_type": "markdown",
   "id": "5be23ae8-cb85-4fe7-99ae-0c05ffcbf567",
   "metadata": {},
   "source": [
    "One of the main methods to evaluate the strength of our model is to plot the Receiver Operating Characteristic (ROC) Curve which plots the True Positive Rates (tpr) against False Positive Rates (tpr) for different cut-off thresholds. In other words, every point across the ROC curve corresponds to a specific confusion matrix.\n",
    "\n",
    "Of particular importance is the area under the ROC curve, called Area under the Cuver (AUC). This area is compared to a threshold of 50% (classifying outcomes based on chance). If the AUC is very close to 50%, the model is not effective at all. If the area is close to 100%, the model has high predictive performance. The following table shows **the interpretation for different AUC values**:\n",
    "\n",
    "\n",
    "| **AUC Score** | **Model Performance** |\n",
    "|--------------|----------------------|\n",
    "| **0.5**      | Random classifier (no discrimination) |\n",
    "| **0.6 - 0.7** | Poor model |\n",
    "| **0.7 - 0.8** | Fair model |\n",
    "| **0.8 - 0.9** | Good model |\n",
    "| **0.9 - 1.0** | Excellent model |\n"
   ]
  },
  {
   "cell_type": "code",
   "execution_count": 48,
   "id": "d75f454f-09b2-42c9-a509-c49cc311547d",
   "metadata": {},
   "outputs": [
    {
     "data": {
      "image/png": "[encoded data removed]",
      "text/plain": [
       "<Figure size 640x480 with 1 Axes>"
      ]
     },
     "metadata": {},
     "output_type": "display_data"
    }
   ],
   "source": [
    "from sklearn.metrics import roc_curve, auc\n",
    "import matplotlib.pyplot as plt\n",
    "\n",
    "fpr, tpr, _ = roc_curve(y_test, y_pred_prob)\n",
    "roc_auc = auc(fpr, tpr)\n",
    "\n",
    "plt.plot(fpr, tpr, label=f'ROC curve (area = {roc_auc:.2f})')\n",
    "plt.plot([0, 1], [0, 1], 'k--')  # Diagonal line\n",
    "plt.xlabel('False Positive Rate')\n",
    "plt.ylabel('True Positive Rate')\n",
    "plt.title('Receiver Operating Characteristic (ROC) Curve')\n",
    "plt.legend()\n",
    "plt.show()"
   ]
  },
  {
   "cell_type": "markdown",
   "id": "82b54c26-6c7e-406e-b7d1-dcfd3fa3940b",
   "metadata": {},
   "source": [
    "We can see that the AUC is close to 0.69 which is an indication of not a very strong model."
   ]
  },
  {
   "cell_type": "code",
   "execution_count": 49,
   "id": "d353fc08-8633-40f2-a054-a79956c27c53",
   "metadata": {},
   "outputs": [
    {
     "name": "stdout",
     "output_type": "stream",
     "text": [
      "AUC is : 0.6950\n"
     ]
    }
   ],
   "source": [
    "#Another method to calculate AUC\n",
    "from sklearn.metrics import roc_auc_score\n",
    "\n",
    "AUC = roc_auc_score(y_test, y_pred_prob)\n",
    "print(f\"AUC is : {AUC:.4f}\")"
   ]
  },
  {
   "cell_type": "markdown",
   "id": "0610c270-92f4-4f37-9363-6df5a07eb1dc",
   "metadata": {},
   "source": [
    "<br>\n",
    "\n",
    "#### **Gini and Kolmogorov Smirnov Indicators**"
   ]
  },
  {
   "cell_type": "code",
   "execution_count": 50,
   "id": "00c00908-1d04-408d-a492-51280e047a85",
   "metadata": {},
   "outputs": [],
   "source": [
    "df_compare = pd.DataFrame({'y_pred_class': y_pred_class, 'y_pred_prob' : y_pred_prob, 'actual': y_test.good_bad})"
   ]
  },
  {
   "cell_type": "markdown",
   "id": "38e06f89-17a9-440b-9884-ac46ea495696",
   "metadata": {},
   "source": [
    "To calculate Gini and KS indicators, we must establish the cumulative percentage of our model"
   ]
  },
  {
   "cell_type": "code",
   "execution_count": 51,
   "id": "ba233867-0db3-40f0-9f94-8b88d6d986f2",
   "metadata": {},
   "outputs": [],
   "source": [
    "df_compare = df_compare.sort_values('y_pred_prob').reset_index()"
   ]
  },
  {
   "cell_type": "markdown",
   "id": "bb7d2080-b776-4a38-92de-6b87b5704066",
   "metadata": {},
   "source": [
    "Now we calculate the cumulative percentages for:\n",
    "- Total population\n",
    "- good borrowers from total of good\n",
    "- bad borrower from total of bad"
   ]
  },
  {
   "cell_type": "code",
   "execution_count": 52,
   "id": "efaf6c78-ed3d-4e43-9a69-8e2ae1962b6d",
   "metadata": {},
   "outputs": [],
   "source": [
    "df_compare['Cum_n_population'] = df_compare.index + 1\n",
    "df_compare['Cum_n_bad'] = df_compare.actual.cumsum()\n",
    "df_compare['Cum_n_good'] = df_compare.Cum_n_population - df_compare.Cum_n_bad"
   ]
  },
  {
   "cell_type": "code",
   "execution_count": 53,
   "id": "ff15d01d-c272-4266-a491-ce7ef4171559",
   "metadata": {},
   "outputs": [],
   "source": [
    "df_compare['Cum_perc_population'] = df_compare.Cum_n_population/ df_compare.shape[0]\n",
    "df_compare['Cum_perc_bad'] = df_compare.Cum_n_bad / df_compare.actual.value_counts().loc[1]\n",
    "df_compare['Cum_perc_good'] = df_compare.Cum_n_good / df_compare.actual.value_counts().loc[0]"
   ]
  },
  {
   "cell_type": "code",
   "execution_count": 54,
   "id": "65bb0567-b791-40a4-a5b7-1019f179b25a",
   "metadata": {},
   "outputs": [
    {
     "data": {
      "text/plain": [
       "Text(0.5, 1.0, 'Gini')"
      ]
     },
     "execution_count": 54,
     "metadata": {},
     "output_type": "execute_result"
    },
    {
     "data": {
      "image/png": "[encoded data removed]",
      "text/plain": [
       "<Figure size 640x480 with 1 Axes>"
      ]
     },
     "metadata": {},
     "output_type": "display_data"
    }
   ],
   "source": [
    "plt.plot(df_compare.Cum_perc_bad, df_compare.Cum_perc_population)\n",
    "plt.plot([df_compare.Cum_perc_bad.min(), df_compare.Cum_perc_bad.max()],\n",
    "           [df_compare.Cum_perc_bad.min(), df_compare.Cum_perc_bad.max()],\n",
    "           color = 'k', linestyle = '--')\n",
    "plt.xlabel('Cumulative % defaulted')\n",
    "plt.ylabel('Cumulative % population')\n",
    "plt.title('Gini')"
   ]
  },
  {
   "cell_type": "markdown",
   "id": "28fb491e-91cd-4e9c-b18f-78eabc04c4e9",
   "metadata": {},
   "source": [
    "As could be probably be guessed from the plot, the Gini curve is a different representation of the ROC curve. In fact, we can calculate the Gini algebraically using the AUC score through the equation:\n",
    "\n",
    "$Gini= (AUC * 2) - 1$\n"
   ]
  },
  {
   "cell_type": "code",
   "execution_count": 55,
   "id": "cc89b9e3-cb04-4371-b672-7ee8151128ba",
   "metadata": {},
   "outputs": [
    {
     "name": "stdout",
     "output_type": "stream",
     "text": [
      "0.3899\n"
     ]
    }
   ],
   "source": [
    "Gini= (AUC * 2) - 1\n",
    "print(f\"{Gini:.4f}\")"
   ]
  },
  {
   "attachments": {
    "66aadecb-d553-4ff5-a3e9-2be711c538b2.png": {
     "image/png": "[encoded data removed]"
    }
   },
   "cell_type": "markdown",
   "id": "1728fbd5-1c4d-4dbe-87ff-4e6cc9575e83",
   "metadata": {},
   "source": [
    "<br>\n",
    "\n",
    "The Kolmogorove_Smirnov statistic (KS test) is the maximum distance between two Cumulative Distribution Functions (CDFs). The more apart the two CDFs are, the more evidence we have that the underlying feature is different between the two compared groups. This test is used to assess whether a variable can be assumed to have a normal distribution by comparing its empirical CDF to that of a Normal Distribution.\n",
    "\n",
    "On one extreme, if KS statistic = 1, there is a perfect separation between the two distributions and we reject H0 (i.e. the good and bad distributions are perfectly separated by our model).\n",
    "On the other extreme, if KS statistic = 0, there is no distance at all between the two distributions and we fail to reject H0.\n",
    "\n",
    "![image.png](attachment:66aadecb-d553-4ff5-a3e9-2be711c538b2.png)\n",
    "\n"
   ]
  },
  {
   "cell_type": "markdown",
   "id": "33313220-2d57-4ec1-a486-c428b79c24aa",
   "metadata": {},
   "source": [
    "We can see from the plot below that the maximum distance between the CDFs for good and bad borrowers is somewhat satisfactory when using this model. The KS_statistic is around 0.262 which is satisfactory but not very high."
   ]
  },
  {
   "cell_type": "code",
   "execution_count": 56,
   "id": "3c7cfa92-6ab6-434e-b6ad-372b392ae53c",
   "metadata": {},
   "outputs": [
    {
     "data": {
      "text/plain": [
       "<matplotlib.legend.Legend at 0x71d33bf8a960>"
      ]
     },
     "execution_count": 56,
     "metadata": {},
     "output_type": "execute_result"
    },
    {
     "data": {
      "image/png": "[encoded data removed]",
      "text/plain": [
       "<Figure size 640x480 with 1 Axes>"
      ]
     },
     "metadata": {},
     "output_type": "display_data"
    }
   ],
   "source": [
    "plt.plot(df_compare.y_pred_prob, df_compare.Cum_perc_good, label = 'CDF PD- Good Borrowers')\n",
    "plt.plot(df_compare.y_pred_prob, df_compare.Cum_perc_bad, label = 'CDF PD- Bad Borrowers')\n",
    "plt.legend()"
   ]
  },
  {
   "cell_type": "code",
   "execution_count": 57,
   "id": "c1f3398f-cccd-410e-a405-322cf0259e43",
   "metadata": {},
   "outputs": [
    {
     "name": "stdout",
     "output_type": "stream",
     "text": [
      "The KS statistic is: 0.2896\n"
     ]
    }
   ],
   "source": [
    "KS = max(df_compare.Cum_perc_good - df_compare.Cum_perc_bad)\n",
    "print(f\"The KS statistic is: {KS:.4f}\")"
   ]
  },
  {
   "cell_type": "markdown",
   "id": "b3a366cf-9b6a-4948-8538-802e97779be3",
   "metadata": {},
   "source": [
    "The KS test can be applied directly using the **ks_2samp()** function from the scipy.stats module."
   ]
  },
  {
   "cell_type": "code",
   "execution_count": 58,
   "id": "9159e0b7-d9f5-46de-a687-9dc86c2feb51",
   "metadata": {},
   "outputs": [
    {
     "name": "stdout",
     "output_type": "stream",
     "text": [
      "Kolmogorov-Smirnov (KS) Statistic: 0.2896\n"
     ]
    }
   ],
   "source": [
    "from scipy.stats import ks_2samp\n",
    "\n",
    "pos_probs = df_compare[df_compare['actual'] == 1]['y_pred_prob']\n",
    "neg_probs = df_compare[df_compare['actual'] == 0]['y_pred_prob']\n",
    "\n",
    "ks_statistic, _ = ks_2samp(pos_probs, neg_probs)\n",
    "\n",
    "print(f\"Kolmogorov-Smirnov (KS) Statistic: {ks_statistic:.4f}\")"
   ]
  },
  {
   "cell_type": "markdown",
   "id": "3e07108e-4678-4d69-a1bc-16df75d9ec6f",
   "metadata": {},
   "source": [
    "<br>\n",
    "\n",
    "## Transforming the model into a Scorecard"
   ]
  },
  {
   "cell_type": "markdown",
   "id": "dfb9e640-d534-4fff-8ed3-847c06da6334",
   "metadata": {},
   "source": [
    "Following the development and validation of our model, we need to transform it into user friendly format that can be applied by everyday users. The final format should be something like the following (which could be in Excel format):\n",
    "\n",
    "| **Variable** | **Bucket** | **Yes/ No** |\n",
    "|--------------|------------|-------------|\n",
    "| **Grade**   | **A**   | - |\n",
    "| **Grade**   | **B**   | Yes |\n",
    "| **Grade**   | **C** | - |\n",
    "| --- | **....** | - |\n",
    "|**Home_ownership**| **Othr_Own_Any** | Yes |\n",
    "|**Home_ownership**| **RENT** | - |\n",
    "|**------**| **-----** | - |\n",
    "|**------**| **-----** | - |\n",
    "|**------**| **-----** | - |\n",
    "| **Final Score** | **400** |"
   ]
  },
  {
   "cell_type": "markdown",
   "id": "f0bcd121-de0a-48a6-ac1a-6d46117fe99f",
   "metadata": {},
   "source": [
    "The following steps need to be take produce a scorecard such as the above:\n",
    "- Define the minimum and maximum score. These should be whole integers (like 0-10) which have some meaning to everyday users rather than numbers with fractions resulting from the model and its coefficients.\n",
    "- Rescale the coefficients such that the maximum and minimum potential score corresponds to the new maximum and minimum limits defined in the first step."
   ]
  },
  {
   "cell_type": "markdown",
   "id": "f2199c30-bc0b-4b88-9783-5e7590929799",
   "metadata": {},
   "source": [
    "We start of by establishing a dataframe of our model's bins and their corresponding coefficients."
   ]
  },
  {
   "cell_type": "code",
   "execution_count": 59,
   "id": "b232ebd2-4d4a-464c-8e77-f21edbe9a04c",
   "metadata": {},
   "outputs": [],
   "source": [
    "\n",
    "df_scorecard = pd.DataFrame({'Bin': X_train.columns.values[1:]})\n",
    "df_scorecard.loc[-1] = 'intercept'  # Add at index -1\n",
    "df_scorecard = df_scorecard.sort_index().reset_index(drop=True)  # Reorder and reset index\n",
    "\n",
    "# Adding coefficients to the dataframe\n",
    "coefficients = model.params  # This is a Series with feature names as index\n",
    "# Map coefficients to the 'Bin' column, filling missing values with 0\n",
    "df_scorecard['Coefficient'] = df_scorecard['Bin'].map(coefficients).fillna(0)"
   ]
  },
  {
   "cell_type": "markdown",
   "id": "885f2fd2-5a3b-421b-b93c-d219696c0c56",
   "metadata": {},
   "source": [
    "We now add the original feature name to the dataframe as we will need this for getting the min and max coefficient per feature."
   ]
  },
  {
   "cell_type": "code",
   "execution_count": 61,
   "id": "e6320d03-6936-428c-a74c-97a9c153ead9",
   "metadata": {},
   "outputs": [],
   "source": [
    "# Add the original feature name- Split each bin name by : and take the first part\n",
    "df_scorecard['Feature'] = df_scorecard.Bin.str.split(':').str[0]"
   ]
  },
  {
   "cell_type": "markdown",
   "id": "7a7f2b4b-e4bb-47f2-9039-54211bc03dd3",
   "metadata": {},
   "source": [
    "To adjust our model score "
   ]
  },
  {
   "cell_type": "code",
   "execution_count": 62,
   "id": "86d69927-0e52-4c13-b3a4-8714b0bddfbf",
   "metadata": {},
   "outputs": [
    {
     "name": "stdout",
     "output_type": "stream",
     "text": [
      "Model default minimum score is: -5.072844498916395\n",
      "Model default minimum score is: 1.2031381972259492\n"
     ]
    }
   ],
   "source": [
    "# Define the minimum and maximum score labels (business decision)\n",
    "min_score = 300\n",
    "max_score = 850\n",
    "\n",
    "# Determine the minimum and maximum log-odds we will get from our PD model\n",
    "min_model_score = df_scorecard.groupby('Feature')['Coefficient'].min().sum()\n",
    "max_model_score = df_scorecard.groupby('Feature')['Coefficient'].max().sum()\n",
    "\n",
    "\n",
    "print(f\"Model default minimum score is: {min_model_score}\")\n",
    "print(f\"Model default minimum score is: {max_model_score}\")\n",
    "# Note: This code gets the minimum coefficient for each feature\n",
    "# df_scorecard.groupby('Feature')['Coefficient'].min()"
   ]
  },
  {
   "cell_type": "markdown",
   "id": "3c4658a6-c736-4d21-81d6-ec132c93373a",
   "metadata": {},
   "source": [
    "Now we need to rescale our coefficients such that they produce outcomes on a scale corresponding to our min/max desired scores above. To do that, we use the following equation:\n",
    "\n",
    "$$Coef\\_adjusted\\_score = variable\\_coef \\frac {(max\\_score - min\\_score)} {(max\\_model\\_score - min\\_model\\_score)}$$"
   ]
  },
  {
   "cell_type": "code",
   "execution_count": 63,
   "id": "cf92bdda-33cc-4a64-bc80-fa62954ef93a",
   "metadata": {},
   "outputs": [],
   "source": [
    "df_scorecard['Adjusted_Coef'] = df_scorecard.Coefficient*(max_score - min_score) / (max_model_score - min_model_score)"
   ]
  },
  {
   "cell_type": "markdown",
   "id": "66f33fea-32cd-44cb-af42-24fac1688e1b",
   "metadata": {},
   "source": [
    "Let us check our new minimum score:"
   ]
  },
  {
   "cell_type": "code",
   "execution_count": 64,
   "id": "13ceb6bf-82bf-43ae-bd9a-f7a305a445e7",
   "metadata": {},
   "outputs": [
    {
     "data": {
      "text/plain": [
       "np.float64(-444.5621681077905)"
      ]
     },
     "execution_count": 64,
     "metadata": {},
     "output_type": "execute_result"
    }
   ],
   "source": [
    "df_scorecard.groupby('Feature')['Adjusted_Coef'].min().sum()"
   ]
  },
  {
   "cell_type": "markdown",
   "id": "eaea13a5-6fbb-41eb-857f-4e27fed6030b",
   "metadata": {},
   "source": [
    "The reason the minimum score is still very low is because we still need to adjust the intercept. We do that with the equation:\n",
    "$$Intercept\\_score =  \\frac {(Intercept\\_coef - min\\_model\\_score)} {(max\\_model\\_score - min\\_model\\_score)} (max\\_score - min\\_score) + min\\_score$$"
   ]
  },
  {
   "cell_type": "code",
   "execution_count": 65,
   "id": "158cb49f-e0f6-419f-a058-c304b54eb359",
   "metadata": {},
   "outputs": [],
   "source": [
    "df_scorecard.iloc[0, df_scorecard.columns.get_loc('Adjusted_Coef')] = ( (df_scorecard.Coefficient[0] - min_model_score) / (max_model_score - min_model_score) ) * (max_score - min_score) + min_score"
   ]
  },
  {
   "cell_type": "markdown",
   "id": "c253e2f8-30ca-46cb-8034-d0d8520df6b7",
   "metadata": {},
   "source": [
    "We now see that the maximum and the minimum potential score correspond exactly to our specified scores."
   ]
  },
  {
   "cell_type": "code",
   "execution_count": 66,
   "id": "2012051c-aa0a-403c-ad62-f48c996af1aa",
   "metadata": {},
   "outputs": [
    {
     "name": "stdout",
     "output_type": "stream",
     "text": [
      "The new adjusted min is: 300.0\n",
      "The new adjusted min is: 850.0\n"
     ]
    }
   ],
   "source": [
    "adj_min = df_scorecard.groupby('Feature')['Adjusted_Coef'].min().sum()\n",
    "print(f\"The new adjusted min is: {adj_min}\")\n",
    "\n",
    "adj_max = df_scorecard.groupby('Feature')['Adjusted_Coef'].max().sum()\n",
    "print(f\"The new adjusted min is: {adj_max}\")"
   ]
  },
  {
   "cell_type": "markdown",
   "id": "6bc488e6-78da-4a90-995c-1683ce0bfd0c",
   "metadata": {},
   "source": [
    "<br>\n",
    "\n",
    "#### Predicting PD for a new client"
   ]
  },
  {
   "cell_type": "markdown",
   "id": "3ac87cab-6ff4-41b6-8f52-e81d0e7f67d1",
   "metadata": {},
   "source": [
    "To get the adjusted score for all of the clients in the testing data set, we need to do the operation:\n",
    "$$final\\_score = X\\_test . \\beta$$\n",
    "Where:\n",
    "- X_test is a $N_{test} \\times p$ matrix.\n",
    "- $\\beta$ is a $p \\times 1$ vector.\n",
    "- final_score is a $N_{test} \\times 1$ vector containing the scores.\n",
    "\n",
    "We re-establish our testing data **X_test** with an intercept (we have deleted reference categories earlier but we need them here)."
   ]
  },
  {
   "cell_type": "code",
   "execution_count": 67,
   "id": "eb8a884c-5ea3-494d-8bb0-83cd4e852c39",
   "metadata": {},
   "outputs": [
    {
     "data": {
      "text/plain": [
       "(93257, 81)"
      ]
     },
     "execution_count": 67,
     "metadata": {},
     "output_type": "execute_result"
    }
   ],
   "source": [
    "X_test_full_with_const = X_test.drop(['id'], axis = 1)\n",
    "X_test_full_with_const.insert(0, 'intercept', 1)\n",
    "X_test_full_with_const['intercept'] = X_test_with_const.intercept.astype(bool)\n",
    "\n",
    "X_test_full_with_const.shape"
   ]
  },
  {
   "cell_type": "markdown",
   "id": "1c96469b-9c1c-4ce1-af0c-f237b2993a57",
   "metadata": {},
   "source": [
    "Our $\\beta$ is the adjusted coefficients column we built in our scorecard."
   ]
  },
  {
   "cell_type": "code",
   "execution_count": 68,
   "id": "963e1f18-0811-45d4-9cab-ad14b293568b",
   "metadata": {},
   "outputs": [
    {
     "data": {
      "text/plain": [
       "(81, 1)"
      ]
     },
     "execution_count": 68,
     "metadata": {},
     "output_type": "execute_result"
    }
   ],
   "source": [
    "beta = pd.DataFrame({'beta': df_scorecard.Adjusted_Coef, 'Bin' : df_scorecard.Bin})\n",
    "beta.set_index('Bin', inplace = True)\n",
    "beta.shape"
   ]
  },
  {
   "cell_type": "markdown",
   "id": "4ba7b942-d50c-4364-b736-009864131c91",
   "metadata": {},
   "source": [
    "We calculate the final score as per our equation above:"
   ]
  },
  {
   "cell_type": "code",
   "execution_count": 69,
   "id": "48b727f7-89a6-4b77-97e4-375e29ff0020",
   "metadata": {},
   "outputs": [],
   "source": [
    "final_score = X_test_full_with_const.dot(beta)"
   ]
  },
  {
   "cell_type": "markdown",
   "id": "a7718469-1942-4f18-8fc8-2eb61aa71298",
   "metadata": {},
   "source": [
    "The final score is a transformed log-odds. We need to transform it back to log-odds with model scale and then transform back to a probability to get PD."
   ]
  },
  {
   "cell_type": "code",
   "execution_count": 70,
   "id": "4585e88c-2274-4608-b695-53c58bb53cd8",
   "metadata": {},
   "outputs": [],
   "source": [
    "log_odds = ((final_score - min_score) / (max_score - min_score)) * (max_model_score - min_model_score) + min_model_score\n",
    "log_odds = np.array(log_odds, dtype=np.float64)\n",
    "PD = 1 / (1 + np.exp(-log_odds))"
   ]
  },
  {
   "cell_type": "markdown",
   "id": "15ec5a1e-9f15-4964-a1eb-94d61598cf75",
   "metadata": {},
   "source": [
    "We finally make a comparison between the model predictions and the scorecard predictions to ensure they are identical."
   ]
  },
  {
   "cell_type": "code",
   "execution_count": 71,
   "id": "02b05328-47c9-4013-b253-6393dfb9eb61",
   "metadata": {},
   "outputs": [
    {
     "data": {
      "text/html": [
       "<div>\n",
       "<style scoped>\n",
       "    .dataframe tbody tr th:only-of-type {\n",
       "        vertical-align: middle;\n",
       "    }\n",
       "\n",
       "    .dataframe tbody tr th {\n",
       "        vertical-align: top;\n",
       "    }\n",
       "\n",
       "    .dataframe thead th {\n",
       "        text-align: right;\n",
       "    }\n",
       "</style>\n",
       "<table border=\"1\" class=\"dataframe\">\n",
       "  <thead>\n",
       "    <tr style=\"text-align: right;\">\n",
       "      <th></th>\n",
       "      <th>model_pred</th>\n",
       "      <th>Score_card</th>\n",
       "    </tr>\n",
       "  </thead>\n",
       "  <tbody>\n",
       "    <tr>\n",
       "      <th>0</th>\n",
       "      <td>0.050454</td>\n",
       "      <td>0.050454</td>\n",
       "    </tr>\n",
       "    <tr>\n",
       "      <th>1</th>\n",
       "      <td>0.040483</td>\n",
       "      <td>0.040483</td>\n",
       "    </tr>\n",
       "    <tr>\n",
       "      <th>2</th>\n",
       "      <td>0.157679</td>\n",
       "      <td>0.157679</td>\n",
       "    </tr>\n",
       "    <tr>\n",
       "      <th>3</th>\n",
       "      <td>0.129487</td>\n",
       "      <td>0.129487</td>\n",
       "    </tr>\n",
       "    <tr>\n",
       "      <th>4</th>\n",
       "      <td>0.035110</td>\n",
       "      <td>0.035110</td>\n",
       "    </tr>\n",
       "    <tr>\n",
       "      <th>...</th>\n",
       "      <td>...</td>\n",
       "      <td>...</td>\n",
       "    </tr>\n",
       "    <tr>\n",
       "      <th>93252</th>\n",
       "      <td>0.187596</td>\n",
       "      <td>0.187596</td>\n",
       "    </tr>\n",
       "    <tr>\n",
       "      <th>93253</th>\n",
       "      <td>0.173988</td>\n",
       "      <td>0.173988</td>\n",
       "    </tr>\n",
       "    <tr>\n",
       "      <th>93254</th>\n",
       "      <td>0.269137</td>\n",
       "      <td>0.269137</td>\n",
       "    </tr>\n",
       "    <tr>\n",
       "      <th>93255</th>\n",
       "      <td>0.085804</td>\n",
       "      <td>0.085804</td>\n",
       "    </tr>\n",
       "    <tr>\n",
       "      <th>93256</th>\n",
       "      <td>0.037460</td>\n",
       "      <td>0.037460</td>\n",
       "    </tr>\n",
       "  </tbody>\n",
       "</table>\n",
       "<p>93257 rows × 2 columns</p>\n",
       "</div>"
      ],
      "text/plain": [
       "       model_pred  Score_card\n",
       "0        0.050454    0.050454\n",
       "1        0.040483    0.040483\n",
       "2        0.157679    0.157679\n",
       "3        0.129487    0.129487\n",
       "4        0.035110    0.035110\n",
       "...           ...         ...\n",
       "93252    0.187596    0.187596\n",
       "93253    0.173988    0.173988\n",
       "93254    0.269137    0.269137\n",
       "93255    0.085804    0.085804\n",
       "93256    0.037460    0.037460\n",
       "\n",
       "[93257 rows x 2 columns]"
      ]
     },
     "execution_count": 71,
     "metadata": {},
     "output_type": "execute_result"
    }
   ],
   "source": [
    "\n",
    "pd.DataFrame({'model_pred' : y_pred_prob , 'Score_card' : PD.squeeze()})\n"
   ]
  },
  {
   "cell_type": "code",
   "execution_count": null,
   "id": "d3cd0e3b-eed2-4d68-b4a1-9417a32882d9",
   "metadata": {},
   "outputs": [],
   "source": []
  },
  {
   "cell_type": "code",
   "execution_count": null,
   "id": "3953419b-e1a8-4ca2-bc72-c02ad681277c",
   "metadata": {},
   "outputs": [],
   "source": []
  }
 ],
 "metadata": {
  "kernelspec": {
   "display_name": "Python 3 (ipykernel)",
   "language": "python",
   "name": "python3"
  },
  "language_info": {
   "codemirror_mode": {
    "name": "ipython",
    "version": 3
   },
   "file_extension": ".py",
   "mimetype": "text/x-python",
   "name": "python",
   "nbconvert_exporter": "python",
   "pygments_lexer": "ipython3",
   "version": "3.12.3"
  }
 },
 "nbformat": 4,
 "nbformat_minor": 5
}
