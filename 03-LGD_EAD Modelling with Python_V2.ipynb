{
 "cells": [
  {
   "cell_type": "markdown",
   "id": "3d5d0ff3-9ba1-474d-addd-280f4bb75c75",
   "metadata": {},
   "source": [
    "## Introduction\n",
    "\n",
    "In this notebook, we will be using a pre-processed version of our loan dataset to model Loss-Given-Default (LGD) and Exposure-at-Default (EAD).\n",
    "- LGD is the percentage of an exposure that cannot be recoved after default.\n",
    "- EAD is the outstanding loan amount when the borrower has defaulted.\n",
    "\n",
    "\n",
    "Note: see pre-processing steps in PD modelling notebook."
   ]
  },
  {
   "cell_type": "code",
   "execution_count": 132,
   "id": "d6522204-5580-48c0-b8db-53213b01189e",
   "metadata": {},
   "outputs": [],
   "source": [
    "import pandas as pd\n",
    "import numpy as np\n",
    "import matplotlib.pyplot as plt\n",
    "import seaborn as sns\n",
    "sns.set()"
   ]
  },
  {
   "cell_type": "markdown",
   "id": "30ef98c2-b067-4513-a4aa-e01c40a822af",
   "metadata": {},
   "source": [
    "We import the protfolio data pre-processed during our PD modeling exercise. This "
   ]
  },
  {
   "cell_type": "code",
   "execution_count": 133,
   "id": "3995c33c-0378-4e08-8f73-8f9829bca688",
   "metadata": {},
   "outputs": [],
   "source": [
    "df_loans = pd.read_csv('loans_preprocessed.csv')"
   ]
  },
  {
   "cell_type": "markdown",
   "id": "fc267709-74d0-47e5-8bc3-b20808257c38",
   "metadata": {
    "jp-MarkdownHeadingCollapsed": true
   },
   "source": [
    "<br>\n",
    "\n",
    "#### Subsetting Data to Written-off Loans"
   ]
  },
  {
   "cell_type": "markdown",
   "id": "89b40c0d-62f0-437e-acf4-2c6e82d9302e",
   "metadata": {},
   "source": [
    "LGD is generally calculated with the equation:\n",
    "\n",
    "$$LGD = (1- Recovery Rate)*100%$$\n",
    "Where:\n",
    "- Recovery rate is the percentage of the loan recoved \n",
    "\n",
    "Because we need to observe the Recovery Rate, we need to observe only defaulted loans which had sometime for repayment after default. Hence, we will be working with a dataframe containing only written-off loans."
   ]
  },
  {
   "cell_type": "code",
   "execution_count": 134,
   "id": "aa013e58-b52f-48fd-b439-23b964df6da6",
   "metadata": {},
   "outputs": [
    {
     "data": {
      "text/plain": [
       "array(['Fully Paid', 'Charged Off', 'Current', 'Default',\n",
       "       'Late (31-120 days)', 'In Grace Period', 'Late (16-30 days)',\n",
       "       'Does not meet the credit policy. Status:Fully Paid',\n",
       "       'Does not meet the credit policy. Status:Charged Off'],\n",
       "      dtype=object)"
      ]
     },
     "execution_count": 134,
     "metadata": {},
     "output_type": "execute_result"
    }
   ],
   "source": [
    "df_loans.loan_status.unique()"
   ]
  },
  {
   "cell_type": "markdown",
   "id": "4f3fd485-db20-49ae-a496-3b2b4fbb0fd5",
   "metadata": {},
   "source": [
    "We create a new dataframe comprised only of written-off loans."
   ]
  },
  {
   "cell_type": "code",
   "execution_count": 135,
   "id": "b5a8b6b5-3a73-419f-820b-9227b3d02e33",
   "metadata": {},
   "outputs": [
    {
     "data": {
      "text/plain": [
       "(43236, 80)"
      ]
     },
     "execution_count": 135,
     "metadata": {},
     "output_type": "execute_result"
    }
   ],
   "source": [
    "df_defaulted = df_loans[df_loans.loan_status.isin(['Charged Off', \n",
    "                                   'Does not meet the credit policy. Status:Charged Off'])]\n",
    "df_defaulted.shape"
   ]
  },
  {
   "cell_type": "markdown",
   "id": "b7b38390-492c-4e0e-85bf-471b586d0f73",
   "metadata": {},
   "source": [
    "As we previously mentioned, LGD is given by:\n",
    "$$LGD = (1- Recovery\\ Rate)*100%$$\n",
    "\n",
    "- Recovery Rate (RR) is $RR = \\frac {Recovery\\ Amount} {EAD}$.\n",
    "<br>\n",
    "\n",
    "- EAD is usually calculated as the remaining exposure when the loan has defaulted. We can see from the table below that it can be calculated by subtracting the total recovered principal ('total_rec_prncp') from the funded amount ('funded_amnt')."
   ]
  },
  {
   "cell_type": "code",
   "execution_count": 136,
   "id": "610297c8-205a-4c19-82c9-470c75d78115",
   "metadata": {},
   "outputs": [
    {
     "data": {
      "text/html": [
       "<div>\n",
       "<style scoped>\n",
       "    .dataframe tbody tr th:only-of-type {\n",
       "        vertical-align: middle;\n",
       "    }\n",
       "\n",
       "    .dataframe tbody tr th {\n",
       "        vertical-align: top;\n",
       "    }\n",
       "\n",
       "    .dataframe thead th {\n",
       "        text-align: right;\n",
       "    }\n",
       "</style>\n",
       "<table border=\"1\" class=\"dataframe\">\n",
       "  <thead>\n",
       "    <tr style=\"text-align: right;\">\n",
       "      <th></th>\n",
       "      <th>funded_amnt</th>\n",
       "      <th>total_pymnt</th>\n",
       "      <th>total_pymnt_inv</th>\n",
       "      <th>total_rec_prncp</th>\n",
       "      <th>recoveries</th>\n",
       "      <th>grade</th>\n",
       "    </tr>\n",
       "  </thead>\n",
       "  <tbody>\n",
       "    <tr>\n",
       "      <th>1</th>\n",
       "      <td>2500</td>\n",
       "      <td>1008.71</td>\n",
       "      <td>1008.71</td>\n",
       "      <td>456.46</td>\n",
       "      <td>117.08</td>\n",
       "      <td>C</td>\n",
       "    </tr>\n",
       "    <tr>\n",
       "      <th>8</th>\n",
       "      <td>5600</td>\n",
       "      <td>646.02</td>\n",
       "      <td>646.02</td>\n",
       "      <td>162.02</td>\n",
       "      <td>189.06</td>\n",
       "      <td>F</td>\n",
       "    </tr>\n",
       "    <tr>\n",
       "      <th>9</th>\n",
       "      <td>5375</td>\n",
       "      <td>1476.19</td>\n",
       "      <td>1469.34</td>\n",
       "      <td>673.48</td>\n",
       "      <td>269.29</td>\n",
       "      <td>B</td>\n",
       "    </tr>\n",
       "  </tbody>\n",
       "</table>\n",
       "</div>"
      ],
      "text/plain": [
       "   funded_amnt  total_pymnt  total_pymnt_inv  total_rec_prncp  recoveries  \\\n",
       "1         2500      1008.71          1008.71           456.46      117.08   \n",
       "8         5600       646.02           646.02           162.02      189.06   \n",
       "9         5375      1476.19          1469.34           673.48      269.29   \n",
       "\n",
       "  grade  \n",
       "1     C  \n",
       "8     F  \n",
       "9     B  "
      ]
     },
     "execution_count": 136,
     "metadata": {},
     "output_type": "execute_result"
    }
   ],
   "source": [
    "# Show all columns\n",
    "pd.options.display.max_columns = None\n",
    "\n",
    "# Columns to infer EAD calculation\n",
    "amounts_columns = ['funded_amnt','total_pymnt', 'total_pymnt_inv', 'total_rec_prncp', 'recoveries', 'grade']\n",
    "df_defaulted.loc[:, amounts_columns].head(3)"
   ]
  },
  {
   "cell_type": "code",
   "execution_count": 137,
   "id": "1ee6aed8-1d58-4e42-962f-560fbb072b15",
   "metadata": {},
   "outputs": [
    {
     "name": "stderr",
     "output_type": "stream",
     "text": [
      "/tmp/ipykernel_584424/2835024230.py:2: SettingWithCopyWarning: \n",
      "A value is trying to be set on a copy of a slice from a DataFrame.\n",
      "Try using .loc[row_indexer,col_indexer] = value instead\n",
      "\n",
      "See the caveats in the documentation: https://pandas.pydata.org/pandas-docs/stable/user_guide/indexing.html#returning-a-view-versus-a-copy\n",
      "  df_defaulted.loc[:,'EAD'] = df_defaulted['funded_amnt'] - df_defaulted['total_rec_prncp']\n",
      "/tmp/ipykernel_584424/2835024230.py:5: SettingWithCopyWarning: \n",
      "A value is trying to be set on a copy of a slice from a DataFrame.\n",
      "Try using .loc[row_indexer,col_indexer] = value instead\n",
      "\n",
      "See the caveats in the documentation: https://pandas.pydata.org/pandas-docs/stable/user_guide/indexing.html#returning-a-view-versus-a-copy\n",
      "  df_defaulted.loc[:, 'RR'] = df_defaulted['recoveries'] / df_defaulted['EAD']\n"
     ]
    }
   ],
   "source": [
    "# Calculating EAD\n",
    "df_defaulted.loc[:,'EAD'] = df_defaulted['funded_amnt'] - df_defaulted['total_rec_prncp']\n",
    "\n",
    "# Calculating Recovery Rate\n",
    "df_defaulted.loc[:, 'RR'] = df_defaulted['recoveries'] / df_defaulted['EAD']"
   ]
  },
  {
   "cell_type": "markdown",
   "id": "c138e0e1-f13e-4bd5-8441-ac3a16aaedeb",
   "metadata": {},
   "source": [
    "Let us ensure that the values of EAD and RR are logical for all observations."
   ]
  },
  {
   "cell_type": "code",
   "execution_count": 138,
   "id": "ea7c21de-4cf9-4ec6-95db-d688aa4c1e2f",
   "metadata": {},
   "outputs": [
    {
     "data": {
      "text/plain": [
       "count    43236.0\n",
       "mean     10904.0\n",
       "std       7474.0\n",
       "min          2.0\n",
       "25%       4943.0\n",
       "50%       9224.0\n",
       "75%      15371.0\n",
       "max      35000.0\n",
       "Name: EAD, dtype: float64"
      ]
     },
     "execution_count": 138,
     "metadata": {},
     "output_type": "execute_result"
    }
   ],
   "source": [
    "df_defaulted['EAD'].describe().round()"
   ]
  },
  {
   "cell_type": "code",
   "execution_count": 139,
   "id": "563be13d-1bf8-459c-ae22-02d251c2383d",
   "metadata": {},
   "outputs": [
    {
     "data": {
      "text/plain": [
       "count    43236.00\n",
       "mean         0.08\n",
       "std          0.12\n",
       "min          0.00\n",
       "25%          0.00\n",
       "50%          0.05\n",
       "75%          0.14\n",
       "max          1.59\n",
       "Name: RR, dtype: float64"
      ]
     },
     "execution_count": 139,
     "metadata": {},
     "output_type": "execute_result"
    }
   ],
   "source": [
    "df_defaulted['RR'].describe().round(2)"
   ]
  },
  {
   "cell_type": "markdown",
   "id": "903f10e3-dc08-4b9e-a971-df98ed8698b2",
   "metadata": {},
   "source": [
    "The recovery rate for some loans is above 1 which is illogical. This may sometimes occur due to accounting error of not splitting recovered amounts into fees, interest, and principal. We will impute such cases to have a maximum of one."
   ]
  },
  {
   "cell_type": "code",
   "execution_count": 140,
   "id": "135f9d12-98d0-4cfd-a686-eea0138b9ea3",
   "metadata": {},
   "outputs": [],
   "source": [
    "# Impute RR values that are above 1 to a value of 1\n",
    "df_defaulted.loc[df_defaulted.RR > 1, 'RR'] = 0.99\n",
    "\n",
    "# Just in case for future data, we wmpute RR values that are below 0 to a minimum of 0\n",
    "df_defaulted.loc[df_defaulted.RR < 0, 'RR'] = 0"
   ]
  },
  {
   "cell_type": "markdown",
   "id": "c91199d1-3e8a-4d55-9f0d-b9193106eff9",
   "metadata": {},
   "source": [
    "<br>\n",
    "\n",
    "## LGD Modelling"
   ]
  },
  {
   "cell_type": "markdown",
   "id": "9e9b9d88-740b-40a5-838c-f28f3e6c6251",
   "metadata": {},
   "source": [
    "### Exploring the Dependent Varaible LGD\n",
    "\n",
    "We examine the distribution of our target variables in order to decide **which distribution fit the data best.**"
   ]
  },
  {
   "cell_type": "code",
   "execution_count": 141,
   "id": "e49d9be9-4408-4048-9e65-d94716ff156a",
   "metadata": {},
   "outputs": [
    {
     "data": {
      "text/plain": [
       "(-0.25, 1.0)"
      ]
     },
     "execution_count": 141,
     "metadata": {},
     "output_type": "execute_result"
    },
    {
     "data": {
      "image/png": "[encoded data removed]",
      "text/plain": [
       "<Figure size 640x480 with 1 Axes>"
      ]
     },
     "metadata": {},
     "output_type": "display_data"
    }
   ],
   "source": [
    "sns.histplot(data = df_defaulted, x = 'RR', bins = 40, stat = 'proportion', kde = True, kde_kws={'bw_adjust': 3})\n",
    "plt.xlim(-0.25,1)"
   ]
  },
  {
   "cell_type": "markdown",
   "id": "fa50b0b5-450b-437c-872d-cba6efa9e866",
   "metadata": {},
   "source": [
    "Since 50% of observations have a Recovery Rate of zero, we will opt to a two-stage modelling approach:\n",
    "- **Stage 1:** Model whether the RR is 0 or not. For this we can use a logistic regression model.\n",
    "- **Stage 2:** If RR > 0, we can model its expected value with linear regression."
   ]
  },
  {
   "cell_type": "markdown",
   "id": "533ecd9b-f293-4d59-b5a2-29a5c1a26423",
   "metadata": {},
   "source": [
    "### Stage 1: Logistic Regression\n",
    "\n",
    "For the first stage, we need to establish a dependent variable showing whether the Recovery Rate (RR) will be zero or not."
   ]
  },
  {
   "cell_type": "code",
   "execution_count": 142,
   "id": "1cc88244-14cf-4c80-a385-5ade9144ff2f",
   "metadata": {},
   "outputs": [
    {
     "name": "stderr",
     "output_type": "stream",
     "text": [
      "/tmp/ipykernel_584424/134948401.py:2: SettingWithCopyWarning: \n",
      "A value is trying to be set on a copy of a slice from a DataFrame.\n",
      "Try using .loc[row_indexer,col_indexer] = value instead\n",
      "\n",
      "See the caveats in the documentation: https://pandas.pydata.org/pandas-docs/stable/user_guide/indexing.html#returning-a-view-versus-a-copy\n",
      "  df_defaulted.loc[:, 'Zero_RR'] = np.where(df_defaulted.RR < 0.001, 0, 1)\n"
     ]
    }
   ],
   "source": [
    "# Create a dummy for a Zero or non-Zero RR\n",
    "df_defaulted.loc[:, 'Zero_RR'] = np.where(df_defaulted.RR < 0.001, 0, 1)"
   ]
  },
  {
   "cell_type": "markdown",
   "id": "c8ab5f41-ee43-42a9-a7bc-20fee03622d9",
   "metadata": {},
   "source": [
    "We also need to focus on the most relevant variables which are usually determined through explanation. Some of the key variables usually relied upon as predictors are missing in this dataset such as Collateral value, Loan-to-value (LTV) ratio, Industry sector, Economic conditions. Still we rely on other variables that are relevant to LGD modelling such as Grade, Home_Ownership, Loan Purpose, Employment Length, Loan Term ..etc."
   ]
  },
  {
   "cell_type": "code",
   "execution_count": 143,
   "id": "ca53dbb6-85b7-46d2-9781-4aa0ce7c3088",
   "metadata": {},
   "outputs": [
    {
     "name": "stderr",
     "output_type": "stream",
     "text": [
      "/tmp/ipykernel_584424/773965960.py:4: SettingWithCopyWarning: \n",
      "A value is trying to be set on a copy of a slice from a DataFrame.\n",
      "Try using .loc[row_indexer,col_indexer] = value instead\n",
      "\n",
      "See the caveats in the documentation: https://pandas.pydata.org/pandas-docs/stable/user_guide/indexing.html#returning-a-view-versus-a-copy\n",
      "  df_defaulted['prop_last_pymnt_d'] = pd.to_datetime(df_defaulted['last_pymnt_d'], format='%b-%y')\n",
      "/tmp/ipykernel_584424/773965960.py:10: SettingWithCopyWarning: \n",
      "A value is trying to be set on a copy of a slice from a DataFrame.\n",
      "Try using .loc[row_indexer,col_indexer] = value instead\n",
      "\n",
      "See the caveats in the documentation: https://pandas.pydata.org/pandas-docs/stable/user_guide/indexing.html#returning-a-view-versus-a-copy\n",
      "  df_defaulted['last_payment_months'] = (ref_date.year - df_defaulted['prop_last_pymnt_d'].dt.year) * 12 + (ref_date.month - df_defaulted['prop_last_pymnt_d'].dt.month)\n"
     ]
    }
   ],
   "source": [
    "# Create a new variable containing the number of months between last_payment_date and end of 2016\n",
    "\n",
    "# Convert to datetime (the given year is two-digit and needs \"20\" prefix)\n",
    "df_defaulted['prop_last_pymnt_d'] = pd.to_datetime(df_defaulted['last_pymnt_d'], format='%b-%y')\n",
    "\n",
    "# Reference date is end of 2016\n",
    "ref_date = pd.to_datetime('2016-12-31')\n",
    "\n",
    "# Calculating the difference between ref-date and last payment date in months\n",
    "df_defaulted['last_payment_months'] = (ref_date.year - df_defaulted['prop_last_pymnt_d'].dt.year) * 12 + (ref_date.month - df_defaulted['prop_last_pymnt_d'].dt.month)\n",
    "\n",
    "# We delete records with na values in order not to distord our model\n",
    "df_defaulted = df_defaulted.dropna(subset=['last_payment_months'])"
   ]
  },
  {
   "cell_type": "code",
   "execution_count": 144,
   "id": "b143d806-ffab-48a9-b977-08b2a373711f",
   "metadata": {},
   "outputs": [
    {
     "data": {
      "text/plain": [
       "Index(['Home_Own: _NONE', 'Home_Own: _OTHER', 'Home_Own: _OWN',\n",
       "       'Home_Own: _RENT'],\n",
       "      dtype='object')"
      ]
     },
     "execution_count": 144,
     "metadata": {},
     "output_type": "execute_result"
    }
   ],
   "source": [
    "home_own_dummies.columns"
   ]
  },
  {
   "cell_type": "code",
   "execution_count": 145,
   "id": "aebcbc68-f9f7-4763-8bfe-374705408aab",
   "metadata": {},
   "outputs": [
    {
     "data": {
      "text/html": [
       "<div>\n",
       "<style scoped>\n",
       "    .dataframe tbody tr th:only-of-type {\n",
       "        vertical-align: middle;\n",
       "    }\n",
       "\n",
       "    .dataframe tbody tr th {\n",
       "        vertical-align: top;\n",
       "    }\n",
       "\n",
       "    .dataframe thead th {\n",
       "        text-align: right;\n",
       "    }\n",
       "</style>\n",
       "<table border=\"1\" class=\"dataframe\">\n",
       "  <thead>\n",
       "    <tr style=\"text-align: right;\">\n",
       "      <th></th>\n",
       "      <th>Zero_RR</th>\n",
       "      <th>RR</th>\n",
       "    </tr>\n",
       "  </thead>\n",
       "  <tbody>\n",
       "    <tr>\n",
       "      <th>1</th>\n",
       "      <td>1</td>\n",
       "      <td>0.057293</td>\n",
       "    </tr>\n",
       "    <tr>\n",
       "      <th>8</th>\n",
       "      <td>1</td>\n",
       "      <td>0.034767</td>\n",
       "    </tr>\n",
       "    <tr>\n",
       "      <th>9</th>\n",
       "      <td>1</td>\n",
       "      <td>0.057277</td>\n",
       "    </tr>\n",
       "    <tr>\n",
       "      <th>12</th>\n",
       "      <td>1</td>\n",
       "      <td>0.057374</td>\n",
       "    </tr>\n",
       "    <tr>\n",
       "      <th>14</th>\n",
       "      <td>1</td>\n",
       "      <td>0.141267</td>\n",
       "    </tr>\n",
       "  </tbody>\n",
       "</table>\n",
       "</div>"
      ],
      "text/plain": [
       "    Zero_RR        RR\n",
       "1         1  0.057293\n",
       "8         1  0.034767\n",
       "9         1  0.057277\n",
       "12        1  0.057374\n",
       "14        1  0.141267"
      ]
     },
     "execution_count": 145,
     "metadata": {},
     "output_type": "execute_result"
    }
   ],
   "source": [
    "grade_dummies = pd.get_dummies(df_defaulted.grade, drop_first = True, prefix = 'Grade: ')\n",
    "home_own_dummies = pd.get_dummies(df_defaulted.home_ownership, drop_first = True, prefix = 'Home_Own: ')\n",
    "verif_dummies = pd.get_dummies(df_defaulted.verification_status, drop_first = True, prefix = 'Verif_Status: ')\n",
    "\n",
    "X = df_defaulted[['dti','funded_amnt', 'emp_length_int', 'term_int', 'last_payment_months',\n",
    "                  'mths_since_issue_d', 'mths_since_earliest_cr_line', 'mths_since_last_delinq', 'mths_since_last_record']]\n",
    "X = pd.concat([X, grade_dummies, home_own_dummies, verif_dummies], axis = 1)\n",
    "y = df_defaulted[['Zero_RR', 'RR']]\n",
    "\n",
    "y.head()"
   ]
  },
  {
   "cell_type": "markdown",
   "id": "835fe421-3da2-4c5c-afc7-d359a61a60ee",
   "metadata": {},
   "source": [
    "We now need to split our new dataset into training and test sets. "
   ]
  },
  {
   "cell_type": "code",
   "execution_count": 146,
   "id": "55bf1cee-7526-42aa-99cb-cc108795a590",
   "metadata": {},
   "outputs": [
    {
     "name": "stdout",
     "output_type": "stream",
     "text": [
      "(34288, 22)\n",
      "(8572, 22)\n",
      "(34288, 2)\n",
      "(8572, 2)\n"
     ]
    }
   ],
   "source": [
    "from sklearn.model_selection import train_test_split\n",
    "\n",
    "\n",
    "# Split data into training and test set\n",
    "X_train_RR, X_test_RR, y_train_RR, y_test_RR = train_test_split(X, y, train_size = 0.8, random_state = 1)\n",
    "\n",
    "\n",
    "# Adding constants to X_train_RR and X_test_RR\n",
    "X_train_RR.insert(0, 'intercept', 1)\n",
    "X_test_RR.insert(0, 'intercept', 1)\n",
    "\n",
    "print(X_train_RR.shape)\n",
    "print(X_test_RR.shape)\n",
    "print(y_train_RR.shape)\n",
    "print(y_test_RR.shape)"
   ]
  },
  {
   "cell_type": "markdown",
   "id": "4acb104a-2113-40ab-9599-53a3c845c2a3",
   "metadata": {},
   "source": [
    "<br>\n",
    "\n",
    "#### Fitting Logistic Regression Model"
   ]
  },
  {
   "cell_type": "markdown",
   "id": "c2ac48de-b9c1-495d-a425-ddc5fc524caf",
   "metadata": {},
   "source": [
    "We now fit a logistic regression model to determine which observations should be assigned a RR of zero and which should not."
   ]
  },
  {
   "cell_type": "code",
   "execution_count": 147,
   "id": "df9cf215-ebb7-4780-a717-98f8a784bceb",
   "metadata": {
    "scrolled": true
   },
   "outputs": [
    {
     "name": "stdout",
     "output_type": "stream",
     "text": [
      "Warning: Maximum number of iterations has been exceeded.\n",
      "         Current function value: 0.647185\n",
      "         Iterations: 35\n"
     ]
    },
    {
     "name": "stderr",
     "output_type": "stream",
     "text": [
      "/home/mohammad/Desktop/Practice/venv/lib/python3.12/site-packages/statsmodels/base/model.py:607: ConvergenceWarning: Maximum Likelihood optimization failed to converge. Check mle_retvals\n",
      "  warnings.warn(\"Maximum Likelihood optimization failed to \"\n"
     ]
    },
    {
     "data": {
      "text/html": [
       "<table class=\"simpletable\">\n",
       "<caption>Logit Regression Results</caption>\n",
       "<tr>\n",
       "  <th>Dep. Variable:</th>        <td>Zero_RR</td>     <th>  No. Observations:  </th>  <td> 34288</td> \n",
       "</tr>\n",
       "<tr>\n",
       "  <th>Model:</th>                 <td>Logit</td>      <th>  Df Residuals:      </th>  <td> 34266</td> \n",
       "</tr>\n",
       "<tr>\n",
       "  <th>Method:</th>                 <td>MLE</td>       <th>  Df Model:          </th>  <td>    21</td> \n",
       "</tr>\n",
       "<tr>\n",
       "  <th>Date:</th>            <td>Fri, 04 Apr 2025</td> <th>  Pseudo R-squ.:     </th>  <td>0.05929</td>\n",
       "</tr>\n",
       "<tr>\n",
       "  <th>Time:</th>                <td>02:57:21</td>     <th>  Log-Likelihood:    </th> <td> -22191.</td>\n",
       "</tr>\n",
       "<tr>\n",
       "  <th>converged:</th>             <td>False</td>      <th>  LL-Null:           </th> <td> -23589.</td>\n",
       "</tr>\n",
       "<tr>\n",
       "  <th>Covariance Type:</th>     <td>nonrobust</td>    <th>  LLR p-value:       </th>  <td> 0.000</td> \n",
       "</tr>\n",
       "</table>\n",
       "<table class=\"simpletable\">\n",
       "<tr>\n",
       "                 <td></td>                   <th>coef</th>     <th>std err</th>      <th>z</th>      <th>P>|z|</th>  <th>[0.025</th>    <th>0.975]</th>  \n",
       "</tr>\n",
       "<tr>\n",
       "  <th>intercept</th>                      <td>   -1.4229</td> <td>    0.096</td> <td>  -14.799</td> <td> 0.000</td> <td>   -1.611</td> <td>   -1.234</td>\n",
       "</tr>\n",
       "<tr>\n",
       "  <th>dti</th>                            <td>   -0.0146</td> <td>    0.002</td> <td>   -9.658</td> <td> 0.000</td> <td>   -0.018</td> <td>   -0.012</td>\n",
       "</tr>\n",
       "<tr>\n",
       "  <th>funded_amnt</th>                    <td> 8.817e-06</td> <td> 1.64e-06</td> <td>    5.366</td> <td> 0.000</td> <td>  5.6e-06</td> <td>  1.2e-05</td>\n",
       "</tr>\n",
       "<tr>\n",
       "  <th>emp_length_int</th>                 <td>   -0.0007</td> <td>    0.003</td> <td>   -0.238</td> <td> 0.812</td> <td>   -0.007</td> <td>    0.005</td>\n",
       "</tr>\n",
       "<tr>\n",
       "  <th>term_int</th>                       <td>   -0.0021</td> <td>    0.001</td> <td>   -1.689</td> <td> 0.091</td> <td>   -0.005</td> <td>    0.000</td>\n",
       "</tr>\n",
       "<tr>\n",
       "  <th>last_payment_months</th>            <td>    0.0213</td> <td>    0.002</td> <td>   13.802</td> <td> 0.000</td> <td>    0.018</td> <td>    0.024</td>\n",
       "</tr>\n",
       "<tr>\n",
       "  <th>mths_since_issue_d</th>             <td>    0.0192</td> <td>    0.001</td> <td>   13.680</td> <td> 0.000</td> <td>    0.016</td> <td>    0.022</td>\n",
       "</tr>\n",
       "<tr>\n",
       "  <th>mths_since_earliest_cr_line</th>    <td>   -0.0009</td> <td>    0.000</td> <td>   -6.568</td> <td> 0.000</td> <td>   -0.001</td> <td>   -0.001</td>\n",
       "</tr>\n",
       "<tr>\n",
       "  <th>mths_since_last_delinq</th>         <td>    0.0007</td> <td>    0.001</td> <td>    1.396</td> <td> 0.163</td> <td>   -0.000</td> <td>    0.002</td>\n",
       "</tr>\n",
       "<tr>\n",
       "  <th>mths_since_last_record</th>         <td>   -0.0033</td> <td>    0.000</td> <td>   -8.120</td> <td> 0.000</td> <td>   -0.004</td> <td>   -0.003</td>\n",
       "</tr>\n",
       "<tr>\n",
       "  <th>Grade: _B</th>                      <td>    0.1363</td> <td>    0.053</td> <td>    2.571</td> <td> 0.010</td> <td>    0.032</td> <td>    0.240</td>\n",
       "</tr>\n",
       "<tr>\n",
       "  <th>Grade: _C</th>                      <td>    0.1949</td> <td>    0.053</td> <td>    3.705</td> <td> 0.000</td> <td>    0.092</td> <td>    0.298</td>\n",
       "</tr>\n",
       "<tr>\n",
       "  <th>Grade: _D</th>                      <td>    0.3203</td> <td>    0.054</td> <td>    5.901</td> <td> 0.000</td> <td>    0.214</td> <td>    0.427</td>\n",
       "</tr>\n",
       "<tr>\n",
       "  <th>Grade: _E</th>                      <td>    0.3728</td> <td>    0.060</td> <td>    6.219</td> <td> 0.000</td> <td>    0.255</td> <td>    0.490</td>\n",
       "</tr>\n",
       "<tr>\n",
       "  <th>Grade: _F</th>                      <td>    0.5523</td> <td>    0.070</td> <td>    7.887</td> <td> 0.000</td> <td>    0.415</td> <td>    0.690</td>\n",
       "</tr>\n",
       "<tr>\n",
       "  <th>Grade: _G</th>                      <td>    0.3847</td> <td>    0.101</td> <td>    3.815</td> <td> 0.000</td> <td>    0.187</td> <td>    0.582</td>\n",
       "</tr>\n",
       "<tr>\n",
       "  <th>Home_Own: _NONE</th>                <td>   12.2892</td> <td>  257.635</td> <td>    0.048</td> <td> 0.962</td> <td> -492.665</td> <td>  517.244</td>\n",
       "</tr>\n",
       "<tr>\n",
       "  <th>Home_Own: _OTHER</th>               <td>   -0.7552</td> <td>    0.412</td> <td>   -1.832</td> <td> 0.067</td> <td>   -1.563</td> <td>    0.053</td>\n",
       "</tr>\n",
       "<tr>\n",
       "  <th>Home_Own: _OWN</th>                 <td>    0.0997</td> <td>    0.042</td> <td>    2.372</td> <td> 0.018</td> <td>    0.017</td> <td>    0.182</td>\n",
       "</tr>\n",
       "<tr>\n",
       "  <th>Home_Own: _RENT</th>                <td>    0.0596</td> <td>    0.025</td> <td>    2.393</td> <td> 0.017</td> <td>    0.011</td> <td>    0.108</td>\n",
       "</tr>\n",
       "<tr>\n",
       "  <th>Verif_Status: _Source Verified</th> <td>    0.0336</td> <td>    0.032</td> <td>    1.052</td> <td> 0.293</td> <td>   -0.029</td> <td>    0.096</td>\n",
       "</tr>\n",
       "<tr>\n",
       "  <th>Verif_Status: _Verified</th>        <td>    0.1792</td> <td>    0.031</td> <td>    5.825</td> <td> 0.000</td> <td>    0.119</td> <td>    0.240</td>\n",
       "</tr>\n",
       "</table>"
      ],
      "text/latex": [
       "\\begin{center}\n",
       "\\begin{tabular}{lclc}\n",
       "\\toprule\n",
       "\\textbf{Dep. Variable:}                   &     Zero\\_RR     & \\textbf{  No. Observations:  } &    34288    \\\\\n",
       "\\textbf{Model:}                           &      Logit       & \\textbf{  Df Residuals:      } &    34266    \\\\\n",
       "\\textbf{Method:}                          &       MLE        & \\textbf{  Df Model:          } &       21    \\\\\n",
       "\\textbf{Date:}                            & Fri, 04 Apr 2025 & \\textbf{  Pseudo R-squ.:     } &  0.05929    \\\\\n",
       "\\textbf{Time:}                            &     02:57:21     & \\textbf{  Log-Likelihood:    } &   -22191.   \\\\\n",
       "\\textbf{converged:}                       &      False       & \\textbf{  LL-Null:           } &   -23589.   \\\\\n",
       "\\textbf{Covariance Type:}                 &    nonrobust     & \\textbf{  LLR p-value:       } &    0.000    \\\\\n",
       "\\bottomrule\n",
       "\\end{tabular}\n",
       "\\begin{tabular}{lcccccc}\n",
       "                                          & \\textbf{coef} & \\textbf{std err} & \\textbf{z} & \\textbf{P$> |$z$|$} & \\textbf{[0.025} & \\textbf{0.975]}  \\\\\n",
       "\\midrule\n",
       "\\textbf{intercept}                        &      -1.4229  &        0.096     &   -14.799  &         0.000        &       -1.611    &       -1.234     \\\\\n",
       "\\textbf{dti}                              &      -0.0146  &        0.002     &    -9.658  &         0.000        &       -0.018    &       -0.012     \\\\\n",
       "\\textbf{funded\\_amnt}                     &    8.817e-06  &     1.64e-06     &     5.366  &         0.000        &      5.6e-06    &      1.2e-05     \\\\\n",
       "\\textbf{emp\\_length\\_int}                 &      -0.0007  &        0.003     &    -0.238  &         0.812        &       -0.007    &        0.005     \\\\\n",
       "\\textbf{term\\_int}                        &      -0.0021  &        0.001     &    -1.689  &         0.091        &       -0.005    &        0.000     \\\\\n",
       "\\textbf{last\\_payment\\_months}            &       0.0213  &        0.002     &    13.802  &         0.000        &        0.018    &        0.024     \\\\\n",
       "\\textbf{mths\\_since\\_issue\\_d}            &       0.0192  &        0.001     &    13.680  &         0.000        &        0.016    &        0.022     \\\\\n",
       "\\textbf{mths\\_since\\_earliest\\_cr\\_line}  &      -0.0009  &        0.000     &    -6.568  &         0.000        &       -0.001    &       -0.001     \\\\\n",
       "\\textbf{mths\\_since\\_last\\_delinq}        &       0.0007  &        0.001     &     1.396  &         0.163        &       -0.000    &        0.002     \\\\\n",
       "\\textbf{mths\\_since\\_last\\_record}        &      -0.0033  &        0.000     &    -8.120  &         0.000        &       -0.004    &       -0.003     \\\\\n",
       "\\textbf{Grade: \\_B}                       &       0.1363  &        0.053     &     2.571  &         0.010        &        0.032    &        0.240     \\\\\n",
       "\\textbf{Grade: \\_C}                       &       0.1949  &        0.053     &     3.705  &         0.000        &        0.092    &        0.298     \\\\\n",
       "\\textbf{Grade: \\_D}                       &       0.3203  &        0.054     &     5.901  &         0.000        &        0.214    &        0.427     \\\\\n",
       "\\textbf{Grade: \\_E}                       &       0.3728  &        0.060     &     6.219  &         0.000        &        0.255    &        0.490     \\\\\n",
       "\\textbf{Grade: \\_F}                       &       0.5523  &        0.070     &     7.887  &         0.000        &        0.415    &        0.690     \\\\\n",
       "\\textbf{Grade: \\_G}                       &       0.3847  &        0.101     &     3.815  &         0.000        &        0.187    &        0.582     \\\\\n",
       "\\textbf{Home\\_Own: \\_NONE}                &      12.2892  &      257.635     &     0.048  &         0.962        &     -492.665    &      517.244     \\\\\n",
       "\\textbf{Home\\_Own: \\_OTHER}               &      -0.7552  &        0.412     &    -1.832  &         0.067        &       -1.563    &        0.053     \\\\\n",
       "\\textbf{Home\\_Own: \\_OWN}                 &       0.0997  &        0.042     &     2.372  &         0.018        &        0.017    &        0.182     \\\\\n",
       "\\textbf{Home\\_Own: \\_RENT}                &       0.0596  &        0.025     &     2.393  &         0.017        &        0.011    &        0.108     \\\\\n",
       "\\textbf{Verif\\_Status: \\_Source Verified} &       0.0336  &        0.032     &     1.052  &         0.293        &       -0.029    &        0.096     \\\\\n",
       "\\textbf{Verif\\_Status: \\_Verified}        &       0.1792  &        0.031     &     5.825  &         0.000        &        0.119    &        0.240     \\\\\n",
       "\\bottomrule\n",
       "\\end{tabular}\n",
       "%\\caption{Logit Regression Results}\n",
       "\\end{center}"
      ],
      "text/plain": [
       "<class 'statsmodels.iolib.summary.Summary'>\n",
       "\"\"\"\n",
       "                           Logit Regression Results                           \n",
       "==============================================================================\n",
       "Dep. Variable:                Zero_RR   No. Observations:                34288\n",
       "Model:                          Logit   Df Residuals:                    34266\n",
       "Method:                           MLE   Df Model:                           21\n",
       "Date:                Fri, 04 Apr 2025   Pseudo R-squ.:                 0.05929\n",
       "Time:                        02:57:21   Log-Likelihood:                -22191.\n",
       "converged:                      False   LL-Null:                       -23589.\n",
       "Covariance Type:            nonrobust   LLR p-value:                     0.000\n",
       "==================================================================================================\n",
       "                                     coef    std err          z      P>|z|      [0.025      0.975]\n",
       "--------------------------------------------------------------------------------------------------\n",
       "intercept                         -1.4229      0.096    -14.799      0.000      -1.611      -1.234\n",
       "dti                               -0.0146      0.002     -9.658      0.000      -0.018      -0.012\n",
       "funded_amnt                     8.817e-06   1.64e-06      5.366      0.000     5.6e-06     1.2e-05\n",
       "emp_length_int                    -0.0007      0.003     -0.238      0.812      -0.007       0.005\n",
       "term_int                          -0.0021      0.001     -1.689      0.091      -0.005       0.000\n",
       "last_payment_months                0.0213      0.002     13.802      0.000       0.018       0.024\n",
       "mths_since_issue_d                 0.0192      0.001     13.680      0.000       0.016       0.022\n",
       "mths_since_earliest_cr_line       -0.0009      0.000     -6.568      0.000      -0.001      -0.001\n",
       "mths_since_last_delinq             0.0007      0.001      1.396      0.163      -0.000       0.002\n",
       "mths_since_last_record            -0.0033      0.000     -8.120      0.000      -0.004      -0.003\n",
       "Grade: _B                          0.1363      0.053      2.571      0.010       0.032       0.240\n",
       "Grade: _C                          0.1949      0.053      3.705      0.000       0.092       0.298\n",
       "Grade: _D                          0.3203      0.054      5.901      0.000       0.214       0.427\n",
       "Grade: _E                          0.3728      0.060      6.219      0.000       0.255       0.490\n",
       "Grade: _F                          0.5523      0.070      7.887      0.000       0.415       0.690\n",
       "Grade: _G                          0.3847      0.101      3.815      0.000       0.187       0.582\n",
       "Home_Own: _NONE                   12.2892    257.635      0.048      0.962    -492.665     517.244\n",
       "Home_Own: _OTHER                  -0.7552      0.412     -1.832      0.067      -1.563       0.053\n",
       "Home_Own: _OWN                     0.0997      0.042      2.372      0.018       0.017       0.182\n",
       "Home_Own: _RENT                    0.0596      0.025      2.393      0.017       0.011       0.108\n",
       "Verif_Status: _Source Verified     0.0336      0.032      1.052      0.293      -0.029       0.096\n",
       "Verif_Status: _Verified            0.1792      0.031      5.825      0.000       0.119       0.240\n",
       "==================================================================================================\n",
       "\"\"\""
      ]
     },
     "execution_count": 147,
     "metadata": {},
     "output_type": "execute_result"
    }
   ],
   "source": [
    "import statsmodels.api as sm\n",
    "\n",
    "RR_model = sm.Logit(y_train_RR.Zero_RR, X_train_RR.astype(float)).fit()\n",
    "RR_model.summary()"
   ]
  },
  {
   "cell_type": "code",
   "execution_count": 148,
   "id": "2d7fd236-d576-48ea-9f6e-388d51b62b3e",
   "metadata": {},
   "outputs": [
    {
     "name": "stdout",
     "output_type": "stream",
     "text": [
      "[[2160 1617]\n",
      " [1284 3511]]\n"
     ]
    }
   ],
   "source": [
    "y_pred_prob = RR_model.predict(X_test_RR.astype(float))  # Probabilities (between 0 and 1)\n",
    "y_pred_class = (y_pred_prob >= 0.5).astype(int)\n",
    "\n",
    "from sklearn.metrics import confusion_matrix\n",
    "\n",
    "conf_matrix = confusion_matrix(y_test_RR.Zero_RR, y_pred_class)\n",
    "print(conf_matrix)\n"
   ]
  },
  {
   "cell_type": "markdown",
   "id": "74dca1ea-498d-4ce1-8edf-089dad5fb33f",
   "metadata": {},
   "source": [
    "We have chosen a cut-off rate of 0.4 because this will increase the proportion of RR classified as non-zero. This way we can still estimate them as close to zero during the second stage of our modelling. Below we see that we get a Sensitivity (true positive rate) of 54% and an Accuracy of 61%."
   ]
  },
  {
   "cell_type": "code",
   "execution_count": 149,
   "id": "2550db9f-0c0b-4d49-90d7-aabbaa23df59",
   "metadata": {},
   "outputs": [
    {
     "name": "stdout",
     "output_type": "stream",
     "text": [
      "Accuracy: 0.6616\n",
      "Sensitivity: 0.4096\n"
     ]
    }
   ],
   "source": [
    "from sklearn.metrics import accuracy_score\n",
    "\n",
    "accuracy = accuracy_score(y_test_RR.Zero_RR, y_pred_class)\n",
    "print(f\"Accuracy: {accuracy:.4f}\")\n",
    "\n",
    "tpr = conf_matrix[1,1] / sum(conf_matrix).sum()\n",
    "print(f\"Sensitivity: {tpr:.4f}\")"
   ]
  },
  {
   "cell_type": "markdown",
   "id": "f7a58b2d-15eb-4128-8303-f62c46cb5153",
   "metadata": {},
   "source": [
    "The Area under the ROC curve (AUC) is around 0.70 which is satisfactory for a two staged approach."
   ]
  },
  {
   "cell_type": "code",
   "execution_count": 150,
   "id": "8e9e70de-3668-4d0c-86c0-4f29494aea2c",
   "metadata": {},
   "outputs": [
    {
     "data": {
      "image/png": "[encoded data removed]",
      "text/plain": [
       "<Figure size 640x480 with 1 Axes>"
      ]
     },
     "metadata": {},
     "output_type": "display_data"
    }
   ],
   "source": [
    "from sklearn.metrics import roc_curve, auc\n",
    "\n",
    "fpr, tpr, _ = roc_curve(y_test_RR.Zero_RR, y_pred_prob)\n",
    "roc_auc = auc(fpr, tpr)\n",
    "\n",
    "plt.plot(fpr, tpr, label=f'ROC curve (area = {roc_auc:.2f})')\n",
    "plt.plot([0, 1], [0, 1], 'k--')  # Diagonal line\n",
    "plt.xlabel('False Positive Rate')\n",
    "plt.ylabel('True Positive Rate')\n",
    "plt.title('Receiver Operating Characteristic (ROC) Curve')\n",
    "plt.legend()\n",
    "plt.show()\n"
   ]
  },
  {
   "cell_type": "markdown",
   "id": "52b84b7c-197e-4c6a-83cf-054ea34f8520",
   "metadata": {},
   "source": [
    "<br>\n",
    "\n",
    "#### Saving the model\n",
    "\n",
    "We will use the module ***pickle*** to save our model parameters. Pickle will allow us to reimport our model later (including the estimated coefficients) and use it for prediction."
   ]
  },
  {
   "cell_type": "code",
   "execution_count": 151,
   "id": "c149ab45-2a01-4e33-8cd0-c7e3b4a11b7f",
   "metadata": {},
   "outputs": [],
   "source": [
    "import pickle\n",
    "\n",
    "with open('RR_model.pkl', 'wb') as f:\n",
    "    pickle.dump(RR_model, f)"
   ]
  },
  {
   "cell_type": "markdown",
   "id": "9b1afd2a-0b2a-4206-81cd-eac19cd59ab1",
   "metadata": {},
   "source": [
    "<br>\n",
    "\n",
    "### Stage 2: Linear Regression for non-zero RR\n",
    "\n",
    "The second stage of LGD modelling is fitting a linear regression model to infer non-zero values of Recovery Rates (RR).\n",
    "\n",
    "We need to filter our training and testing data data to only observations with non-zero RR rate."
   ]
  },
  {
   "cell_type": "code",
   "execution_count": 152,
   "id": "6902d3bf-f849-4a12-9f1f-a19401eece2f",
   "metadata": {},
   "outputs": [
    {
     "name": "stdout",
     "output_type": "stream",
     "text": [
      "(18886, 22)\n",
      "(4795, 22)\n",
      "(18886,)\n",
      "(4795,)\n"
     ]
    }
   ],
   "source": [
    "# Filtering training sets to non-zero RR-values\n",
    "X_train_2 = X_train_RR[y_train_RR.Zero_RR == 1]\n",
    "y_train_2 = y_train_RR.RR[y_train_RR.Zero_RR == 1]\n",
    "\n",
    "X_test_2 = X_test_RR[y_test_RR.Zero_RR == 1]\n",
    "y_test_2 = y_test_RR.RR[y_test_RR.Zero_RR == 1]\n",
    "\n",
    "\n",
    "print(X_train_2.shape)\n",
    "print(X_test_2.shape)\n",
    "print(y_train_2.shape)\n",
    "print(y_test_2.shape)\n"
   ]
  },
  {
   "cell_type": "markdown",
   "id": "80b84cd2-427d-4448-ae8a-3dc41fe8085a",
   "metadata": {},
   "source": [
    "When we fit the linear regression model, we can see that we have an Adjusted R-Squared value of around 0.26 which means that the model is not strong at explaining the variation in RR. Most of the used variabels are statistically significant but with weak strength in explaining the variation in RR. This is mainly due to the absence of strong predictors mentioned at the beginning of the section."
   ]
  },
  {
   "cell_type": "code",
   "execution_count": 153,
   "id": "4ab87f98-51a2-4446-bc71-bf257e39ce3e",
   "metadata": {
    "scrolled": true
   },
   "outputs": [
    {
     "data": {
      "text/html": [
       "<table class=\"simpletable\">\n",
       "<caption>OLS Regression Results</caption>\n",
       "<tr>\n",
       "  <th>Dep. Variable:</th>           <td>RR</td>        <th>  R-squared:         </th>  <td>   0.026</td> \n",
       "</tr>\n",
       "<tr>\n",
       "  <th>Model:</th>                   <td>OLS</td>       <th>  Adj. R-squared:    </th>  <td>   0.025</td> \n",
       "</tr>\n",
       "<tr>\n",
       "  <th>Method:</th>             <td>Least Squares</td>  <th>  F-statistic:       </th>  <td>   24.39</td> \n",
       "</tr>\n",
       "<tr>\n",
       "  <th>Date:</th>             <td>Fri, 04 Apr 2025</td> <th>  Prob (F-statistic):</th>  <td>9.96e-94</td> \n",
       "</tr>\n",
       "<tr>\n",
       "  <th>Time:</th>                 <td>02:57:21</td>     <th>  Log-Likelihood:    </th>  <td>  13850.</td> \n",
       "</tr>\n",
       "<tr>\n",
       "  <th>No. Observations:</th>      <td> 18886</td>      <th>  AIC:               </th> <td>-2.766e+04</td>\n",
       "</tr>\n",
       "<tr>\n",
       "  <th>Df Residuals:</th>          <td> 18864</td>      <th>  BIC:               </th> <td>-2.748e+04</td>\n",
       "</tr>\n",
       "<tr>\n",
       "  <th>Df Model:</th>              <td>    21</td>      <th>                     </th>      <td> </td>    \n",
       "</tr>\n",
       "<tr>\n",
       "  <th>Covariance Type:</th>      <td>nonrobust</td>    <th>                     </th>      <td> </td>    \n",
       "</tr>\n",
       "</table>\n",
       "<table class=\"simpletable\">\n",
       "<tr>\n",
       "                 <td></td>                   <th>coef</th>     <th>std err</th>      <th>t</th>      <th>P>|t|</th>  <th>[0.025</th>    <th>0.975]</th>  \n",
       "</tr>\n",
       "<tr>\n",
       "  <th>intercept</th>                      <td>    0.1934</td> <td>    0.007</td> <td>   27.002</td> <td> 0.000</td> <td>    0.179</td> <td>    0.207</td>\n",
       "</tr>\n",
       "<tr>\n",
       "  <th>dti</th>                            <td> 7.561e-05</td> <td>    0.000</td> <td>    0.663</td> <td> 0.507</td> <td>   -0.000</td> <td>    0.000</td>\n",
       "</tr>\n",
       "<tr>\n",
       "  <th>funded_amnt</th>                    <td> 8.495e-08</td> <td> 1.22e-07</td> <td>    0.696</td> <td> 0.487</td> <td>-1.54e-07</td> <td> 3.24e-07</td>\n",
       "</tr>\n",
       "<tr>\n",
       "  <th>emp_length_int</th>                 <td>    0.0004</td> <td>    0.000</td> <td>    1.758</td> <td> 0.079</td> <td>-4.82e-05</td> <td>    0.001</td>\n",
       "</tr>\n",
       "<tr>\n",
       "  <th>term_int</th>                       <td>   -0.0005</td> <td> 9.26e-05</td> <td>   -5.587</td> <td> 0.000</td> <td>   -0.001</td> <td>   -0.000</td>\n",
       "</tr>\n",
       "<tr>\n",
       "  <th>last_payment_months</th>            <td>   -0.0009</td> <td>    0.000</td> <td>   -8.489</td> <td> 0.000</td> <td>   -0.001</td> <td>   -0.001</td>\n",
       "</tr>\n",
       "<tr>\n",
       "  <th>mths_since_issue_d</th>             <td>   -0.0003</td> <td> 9.62e-05</td> <td>   -2.918</td> <td> 0.004</td> <td>   -0.000</td> <td>-9.21e-05</td>\n",
       "</tr>\n",
       "<tr>\n",
       "  <th>mths_since_earliest_cr_line</th>    <td> 6.419e-05</td> <td> 1.07e-05</td> <td>    6.019</td> <td> 0.000</td> <td> 4.33e-05</td> <td> 8.51e-05</td>\n",
       "</tr>\n",
       "<tr>\n",
       "  <th>mths_since_last_delinq</th>         <td> 3.167e-05</td> <td>  3.8e-05</td> <td>    0.834</td> <td> 0.404</td> <td>-4.27e-05</td> <td>    0.000</td>\n",
       "</tr>\n",
       "<tr>\n",
       "  <th>mths_since_last_record</th>         <td> 4.987e-06</td> <td> 3.37e-05</td> <td>    0.148</td> <td> 0.882</td> <td> -6.1e-05</td> <td>  7.1e-05</td>\n",
       "</tr>\n",
       "<tr>\n",
       "  <th>Grade: _B</th>                      <td>    0.0063</td> <td>    0.004</td> <td>    1.572</td> <td> 0.116</td> <td>   -0.002</td> <td>    0.014</td>\n",
       "</tr>\n",
       "<tr>\n",
       "  <th>Grade: _C</th>                      <td>    0.0096</td> <td>    0.004</td> <td>    2.408</td> <td> 0.016</td> <td>    0.002</td> <td>    0.017</td>\n",
       "</tr>\n",
       "<tr>\n",
       "  <th>Grade: _D</th>                      <td>    0.0092</td> <td>    0.004</td> <td>    2.267</td> <td> 0.023</td> <td>    0.001</td> <td>    0.017</td>\n",
       "</tr>\n",
       "<tr>\n",
       "  <th>Grade: _E</th>                      <td>    0.0138</td> <td>    0.004</td> <td>    3.088</td> <td> 0.002</td> <td>    0.005</td> <td>    0.023</td>\n",
       "</tr>\n",
       "<tr>\n",
       "  <th>Grade: _F</th>                      <td>    0.0184</td> <td>    0.005</td> <td>    3.620</td> <td> 0.000</td> <td>    0.008</td> <td>    0.028</td>\n",
       "</tr>\n",
       "<tr>\n",
       "  <th>Grade: _G</th>                      <td>    0.0239</td> <td>    0.007</td> <td>    3.345</td> <td> 0.001</td> <td>    0.010</td> <td>    0.038</td>\n",
       "</tr>\n",
       "<tr>\n",
       "  <th>Home_Own: _NONE</th>                <td>   -0.0074</td> <td>    0.058</td> <td>   -0.128</td> <td> 0.898</td> <td>   -0.121</td> <td>    0.107</td>\n",
       "</tr>\n",
       "<tr>\n",
       "  <th>Home_Own: _OTHER</th>               <td>    0.0786</td> <td>    0.025</td> <td>    3.085</td> <td> 0.002</td> <td>    0.029</td> <td>    0.129</td>\n",
       "</tr>\n",
       "<tr>\n",
       "  <th>Home_Own: _OWN</th>                 <td>   -0.0023</td> <td>    0.003</td> <td>   -0.743</td> <td> 0.457</td> <td>   -0.009</td> <td>    0.004</td>\n",
       "</tr>\n",
       "<tr>\n",
       "  <th>Home_Own: _RENT</th>                <td>   -0.0063</td> <td>    0.002</td> <td>   -3.332</td> <td> 0.001</td> <td>   -0.010</td> <td>   -0.003</td>\n",
       "</tr>\n",
       "<tr>\n",
       "  <th>Verif_Status: _Source Verified</th> <td>   -0.0026</td> <td>    0.002</td> <td>   -1.091</td> <td> 0.275</td> <td>   -0.007</td> <td>    0.002</td>\n",
       "</tr>\n",
       "<tr>\n",
       "  <th>Verif_Status: _Verified</th>        <td>    0.0006</td> <td>    0.002</td> <td>    0.281</td> <td> 0.779</td> <td>   -0.004</td> <td>    0.005</td>\n",
       "</tr>\n",
       "</table>\n",
       "<table class=\"simpletable\">\n",
       "<tr>\n",
       "  <th>Omnibus:</th>       <td>17543.431</td> <th>  Durbin-Watson:     </th>  <td>   1.995</td> \n",
       "</tr>\n",
       "<tr>\n",
       "  <th>Prob(Omnibus):</th>  <td> 0.000</td>   <th>  Jarque-Bera (JB):  </th> <td>697142.272</td>\n",
       "</tr>\n",
       "<tr>\n",
       "  <th>Skew:</th>           <td> 4.548</td>   <th>  Prob(JB):          </th>  <td>    0.00</td> \n",
       "</tr>\n",
       "<tr>\n",
       "  <th>Kurtosis:</th>       <td>31.340</td>   <th>  Cond. No.          </th>  <td>1.15e+06</td> \n",
       "</tr>\n",
       "</table><br/><br/>Notes:<br/>[1] Standard Errors assume that the covariance matrix of the errors is correctly specified.<br/>[2] The condition number is large, 1.15e+06. This might indicate that there are<br/>strong multicollinearity or other numerical problems."
      ],
      "text/latex": [
       "\\begin{center}\n",
       "\\begin{tabular}{lclc}\n",
       "\\toprule\n",
       "\\textbf{Dep. Variable:}                   &        RR        & \\textbf{  R-squared:         } &     0.026   \\\\\n",
       "\\textbf{Model:}                           &       OLS        & \\textbf{  Adj. R-squared:    } &     0.025   \\\\\n",
       "\\textbf{Method:}                          &  Least Squares   & \\textbf{  F-statistic:       } &     24.39   \\\\\n",
       "\\textbf{Date:}                            & Fri, 04 Apr 2025 & \\textbf{  Prob (F-statistic):} &  9.96e-94   \\\\\n",
       "\\textbf{Time:}                            &     02:57:21     & \\textbf{  Log-Likelihood:    } &    13850.   \\\\\n",
       "\\textbf{No. Observations:}                &       18886      & \\textbf{  AIC:               } & -2.766e+04  \\\\\n",
       "\\textbf{Df Residuals:}                    &       18864      & \\textbf{  BIC:               } & -2.748e+04  \\\\\n",
       "\\textbf{Df Model:}                        &          21      & \\textbf{                     } &             \\\\\n",
       "\\textbf{Covariance Type:}                 &    nonrobust     & \\textbf{                     } &             \\\\\n",
       "\\bottomrule\n",
       "\\end{tabular}\n",
       "\\begin{tabular}{lcccccc}\n",
       "                                          & \\textbf{coef} & \\textbf{std err} & \\textbf{t} & \\textbf{P$> |$t$|$} & \\textbf{[0.025} & \\textbf{0.975]}  \\\\\n",
       "\\midrule\n",
       "\\textbf{intercept}                        &       0.1934  &        0.007     &    27.002  &         0.000        &        0.179    &        0.207     \\\\\n",
       "\\textbf{dti}                              &    7.561e-05  &        0.000     &     0.663  &         0.507        &       -0.000    &        0.000     \\\\\n",
       "\\textbf{funded\\_amnt}                     &    8.495e-08  &     1.22e-07     &     0.696  &         0.487        &    -1.54e-07    &     3.24e-07     \\\\\n",
       "\\textbf{emp\\_length\\_int}                 &       0.0004  &        0.000     &     1.758  &         0.079        &    -4.82e-05    &        0.001     \\\\\n",
       "\\textbf{term\\_int}                        &      -0.0005  &     9.26e-05     &    -5.587  &         0.000        &       -0.001    &       -0.000     \\\\\n",
       "\\textbf{last\\_payment\\_months}            &      -0.0009  &        0.000     &    -8.489  &         0.000        &       -0.001    &       -0.001     \\\\\n",
       "\\textbf{mths\\_since\\_issue\\_d}            &      -0.0003  &     9.62e-05     &    -2.918  &         0.004        &       -0.000    &    -9.21e-05     \\\\\n",
       "\\textbf{mths\\_since\\_earliest\\_cr\\_line}  &    6.419e-05  &     1.07e-05     &     6.019  &         0.000        &     4.33e-05    &     8.51e-05     \\\\\n",
       "\\textbf{mths\\_since\\_last\\_delinq}        &    3.167e-05  &      3.8e-05     &     0.834  &         0.404        &    -4.27e-05    &        0.000     \\\\\n",
       "\\textbf{mths\\_since\\_last\\_record}        &    4.987e-06  &     3.37e-05     &     0.148  &         0.882        &     -6.1e-05    &      7.1e-05     \\\\\n",
       "\\textbf{Grade: \\_B}                       &       0.0063  &        0.004     &     1.572  &         0.116        &       -0.002    &        0.014     \\\\\n",
       "\\textbf{Grade: \\_C}                       &       0.0096  &        0.004     &     2.408  &         0.016        &        0.002    &        0.017     \\\\\n",
       "\\textbf{Grade: \\_D}                       &       0.0092  &        0.004     &     2.267  &         0.023        &        0.001    &        0.017     \\\\\n",
       "\\textbf{Grade: \\_E}                       &       0.0138  &        0.004     &     3.088  &         0.002        &        0.005    &        0.023     \\\\\n",
       "\\textbf{Grade: \\_F}                       &       0.0184  &        0.005     &     3.620  &         0.000        &        0.008    &        0.028     \\\\\n",
       "\\textbf{Grade: \\_G}                       &       0.0239  &        0.007     &     3.345  &         0.001        &        0.010    &        0.038     \\\\\n",
       "\\textbf{Home\\_Own: \\_NONE}                &      -0.0074  &        0.058     &    -0.128  &         0.898        &       -0.121    &        0.107     \\\\\n",
       "\\textbf{Home\\_Own: \\_OTHER}               &       0.0786  &        0.025     &     3.085  &         0.002        &        0.029    &        0.129     \\\\\n",
       "\\textbf{Home\\_Own: \\_OWN}                 &      -0.0023  &        0.003     &    -0.743  &         0.457        &       -0.009    &        0.004     \\\\\n",
       "\\textbf{Home\\_Own: \\_RENT}                &      -0.0063  &        0.002     &    -3.332  &         0.001        &       -0.010    &       -0.003     \\\\\n",
       "\\textbf{Verif\\_Status: \\_Source Verified} &      -0.0026  &        0.002     &    -1.091  &         0.275        &       -0.007    &        0.002     \\\\\n",
       "\\textbf{Verif\\_Status: \\_Verified}        &       0.0006  &        0.002     &     0.281  &         0.779        &       -0.004    &        0.005     \\\\\n",
       "\\bottomrule\n",
       "\\end{tabular}\n",
       "\\begin{tabular}{lclc}\n",
       "\\textbf{Omnibus:}       & 17543.431 & \\textbf{  Durbin-Watson:     } &     1.995   \\\\\n",
       "\\textbf{Prob(Omnibus):} &    0.000  & \\textbf{  Jarque-Bera (JB):  } & 697142.272  \\\\\n",
       "\\textbf{Skew:}          &    4.548  & \\textbf{  Prob(JB):          } &      0.00   \\\\\n",
       "\\textbf{Kurtosis:}      &   31.340  & \\textbf{  Cond. No.          } &  1.15e+06   \\\\\n",
       "\\bottomrule\n",
       "\\end{tabular}\n",
       "%\\caption{OLS Regression Results}\n",
       "\\end{center}\n",
       "\n",
       "Notes: \\newline\n",
       " [1] Standard Errors assume that the covariance matrix of the errors is correctly specified. \\newline\n",
       " [2] The condition number is large, 1.15e+06. This might indicate that there are \\newline\n",
       " strong multicollinearity or other numerical problems."
      ],
      "text/plain": [
       "<class 'statsmodels.iolib.summary.Summary'>\n",
       "\"\"\"\n",
       "                            OLS Regression Results                            \n",
       "==============================================================================\n",
       "Dep. Variable:                     RR   R-squared:                       0.026\n",
       "Model:                            OLS   Adj. R-squared:                  0.025\n",
       "Method:                 Least Squares   F-statistic:                     24.39\n",
       "Date:                Fri, 04 Apr 2025   Prob (F-statistic):           9.96e-94\n",
       "Time:                        02:57:21   Log-Likelihood:                 13850.\n",
       "No. Observations:               18886   AIC:                        -2.766e+04\n",
       "Df Residuals:                   18864   BIC:                        -2.748e+04\n",
       "Df Model:                          21                                         \n",
       "Covariance Type:            nonrobust                                         \n",
       "==================================================================================================\n",
       "                                     coef    std err          t      P>|t|      [0.025      0.975]\n",
       "--------------------------------------------------------------------------------------------------\n",
       "intercept                          0.1934      0.007     27.002      0.000       0.179       0.207\n",
       "dti                             7.561e-05      0.000      0.663      0.507      -0.000       0.000\n",
       "funded_amnt                     8.495e-08   1.22e-07      0.696      0.487   -1.54e-07    3.24e-07\n",
       "emp_length_int                     0.0004      0.000      1.758      0.079   -4.82e-05       0.001\n",
       "term_int                          -0.0005   9.26e-05     -5.587      0.000      -0.001      -0.000\n",
       "last_payment_months               -0.0009      0.000     -8.489      0.000      -0.001      -0.001\n",
       "mths_since_issue_d                -0.0003   9.62e-05     -2.918      0.004      -0.000   -9.21e-05\n",
       "mths_since_earliest_cr_line     6.419e-05   1.07e-05      6.019      0.000    4.33e-05    8.51e-05\n",
       "mths_since_last_delinq          3.167e-05    3.8e-05      0.834      0.404   -4.27e-05       0.000\n",
       "mths_since_last_record          4.987e-06   3.37e-05      0.148      0.882    -6.1e-05     7.1e-05\n",
       "Grade: _B                          0.0063      0.004      1.572      0.116      -0.002       0.014\n",
       "Grade: _C                          0.0096      0.004      2.408      0.016       0.002       0.017\n",
       "Grade: _D                          0.0092      0.004      2.267      0.023       0.001       0.017\n",
       "Grade: _E                          0.0138      0.004      3.088      0.002       0.005       0.023\n",
       "Grade: _F                          0.0184      0.005      3.620      0.000       0.008       0.028\n",
       "Grade: _G                          0.0239      0.007      3.345      0.001       0.010       0.038\n",
       "Home_Own: _NONE                   -0.0074      0.058     -0.128      0.898      -0.121       0.107\n",
       "Home_Own: _OTHER                   0.0786      0.025      3.085      0.002       0.029       0.129\n",
       "Home_Own: _OWN                    -0.0023      0.003     -0.743      0.457      -0.009       0.004\n",
       "Home_Own: _RENT                   -0.0063      0.002     -3.332      0.001      -0.010      -0.003\n",
       "Verif_Status: _Source Verified    -0.0026      0.002     -1.091      0.275      -0.007       0.002\n",
       "Verif_Status: _Verified            0.0006      0.002      0.281      0.779      -0.004       0.005\n",
       "==============================================================================\n",
       "Omnibus:                    17543.431   Durbin-Watson:                   1.995\n",
       "Prob(Omnibus):                  0.000   Jarque-Bera (JB):           697142.272\n",
       "Skew:                           4.548   Prob(JB):                         0.00\n",
       "Kurtosis:                      31.340   Cond. No.                     1.15e+06\n",
       "==============================================================================\n",
       "\n",
       "Notes:\n",
       "[1] Standard Errors assume that the covariance matrix of the errors is correctly specified.\n",
       "[2] The condition number is large, 1.15e+06. This might indicate that there are\n",
       "strong multicollinearity or other numerical problems.\n",
       "\"\"\""
      ]
     },
     "execution_count": 153,
     "metadata": {},
     "output_type": "execute_result"
    }
   ],
   "source": [
    "RR_model2 = sm.OLS(y_train_2, X_train_2.astype(float)).fit()\n",
    "RR_model2.summary()"
   ]
  },
  {
   "cell_type": "markdown",
   "id": "dfee5dc6-6bb5-4f8f-8338-9ae8c28ddf3d",
   "metadata": {},
   "source": [
    "<br>\n",
    "\n",
    "We can examine the predictive power of the model by comparing the predicted RR values to actual values."
   ]
  },
  {
   "cell_type": "code",
   "execution_count": 154,
   "id": "7cae4c36-187d-4393-b1db-7eb7b4afba93",
   "metadata": {},
   "outputs": [
    {
     "data": {
      "text/html": [
       "<div>\n",
       "<style scoped>\n",
       "    .dataframe tbody tr th:only-of-type {\n",
       "        vertical-align: middle;\n",
       "    }\n",
       "\n",
       "    .dataframe tbody tr th {\n",
       "        vertical-align: top;\n",
       "    }\n",
       "\n",
       "    .dataframe thead th {\n",
       "        text-align: right;\n",
       "    }\n",
       "</style>\n",
       "<table border=\"1\" class=\"dataframe\">\n",
       "  <thead>\n",
       "    <tr style=\"text-align: right;\">\n",
       "      <th></th>\n",
       "      <th>pred</th>\n",
       "      <th>actual</th>\n",
       "    </tr>\n",
       "  </thead>\n",
       "  <tbody>\n",
       "    <tr>\n",
       "      <th>pred</th>\n",
       "      <td>1.000000</td>\n",
       "      <td>0.174806</td>\n",
       "    </tr>\n",
       "    <tr>\n",
       "      <th>actual</th>\n",
       "      <td>0.174806</td>\n",
       "      <td>1.000000</td>\n",
       "    </tr>\n",
       "  </tbody>\n",
       "</table>\n",
       "</div>"
      ],
      "text/plain": [
       "            pred    actual\n",
       "pred    1.000000  0.174806\n",
       "actual  0.174806  1.000000"
      ]
     },
     "execution_count": 154,
     "metadata": {},
     "output_type": "execute_result"
    }
   ],
   "source": [
    "# Estimate the correlation between predictions and actual values\n",
    "df_compare = pd.DataFrame({'pred': RR_model2.predict(X_test_2), 'actual': y_test_2})\n",
    "df_compare.corr()"
   ]
  },
  {
   "cell_type": "code",
   "execution_count": 155,
   "id": "1006a85b-fd77-4779-8157-a22a8db89c67",
   "metadata": {},
   "outputs": [
    {
     "data": {
      "text/plain": [
       "<Axes: ylabel='Count'>"
      ]
     },
     "execution_count": 155,
     "metadata": {},
     "output_type": "execute_result"
    },
    {
     "data": {
      "image/png": "[encoded data removed]",
      "text/plain": [
       "<Figure size 640x480 with 1 Axes>"
      ]
     },
     "metadata": {},
     "output_type": "display_data"
    }
   ],
   "source": [
    "#Check the distribution of error terms\n",
    "sns.histplot(y_test_2 - RR_model2.predict(X_test_2))"
   ]
  },
  {
   "cell_type": "markdown",
   "id": "6382b185-c669-4ef4-925f-7df7d94f445f",
   "metadata": {},
   "source": [
    "<br>\n",
    "\n",
    "#### Saving the model"
   ]
  },
  {
   "cell_type": "code",
   "execution_count": 156,
   "id": "71dec87a-7ae3-440b-b5d3-d34e0336b104",
   "metadata": {},
   "outputs": [],
   "source": [
    "with open('RR_model2.pkl', 'wb') as f:\n",
    "    pickle.dump(RR_model2, f)"
   ]
  },
  {
   "cell_type": "markdown",
   "id": "616bebd7-ab69-4818-a431-2a4df279464c",
   "metadata": {},
   "source": [
    "<br>\n",
    "\n",
    "### Combining the two-stages models\n",
    "We combine the two models by multiplying the predictions of of the logistic mode (0 or 1) with the predictions of the linear regression model. This way, we maintain all zero predictions from the first model (multiplication by zero) and we maintain the predictions for non-zero values from the second model (through multiplication by one).\n",
    "\n",
    "As the data is highly skewed, we measure the final predictive performance via Mean Absolute Error (MAE). In this case, it is close to 7 percentage points which is statisfactory given the lack of key predictive variables. We notice also that the distribution of predictions and actual values of the testing data are very similar."
   ]
  },
  {
   "cell_type": "code",
   "execution_count": 157,
   "id": "d3868c1c-4e27-4084-907d-18c3b11df849",
   "metadata": {},
   "outputs": [
    {
     "data": {
      "text/plain": [
       "count    8572.00\n",
       "mean        0.09\n",
       "std         0.07\n",
       "min         0.00\n",
       "25%         0.00\n",
       "50%         0.13\n",
       "75%         0.15\n",
       "max         0.21\n",
       "dtype: float64"
      ]
     },
     "execution_count": 157,
     "metadata": {},
     "output_type": "execute_result"
    }
   ],
   "source": [
    "# Combining the predictions from the two models via multiplication of predictions\n",
    "y_pred_final = pd.Series(RR_model2.predict(X_test_RR) * y_pred_class).astype(float)\n",
    "y_pred_final.describe().round(2)"
   ]
  },
  {
   "cell_type": "code",
   "execution_count": 158,
   "id": "cf292691-a88f-41a5-9567-0310abc82501",
   "metadata": {},
   "outputs": [
    {
     "data": {
      "text/plain": [
       "np.float64(0.07855088849350869)"
      ]
     },
     "execution_count": 158,
     "metadata": {},
     "output_type": "execute_result"
    }
   ],
   "source": [
    "# Assessing the final predictive performance via Mean Absolute Error\n",
    "from sklearn.metrics import mean_absolute_error\n",
    "MAE = mean_absolute_error(df_final_compare['actual'], df_final_compare['pred'])\n",
    "MAE"
   ]
  },
  {
   "cell_type": "code",
   "execution_count": 159,
   "id": "d7e8701e-7b15-4a6f-aa26-5eee6abec815",
   "metadata": {},
   "outputs": [
    {
     "data": {
      "text/plain": [
       "<matplotlib.legend.Legend at 0x706a10523ce0>"
      ]
     },
     "execution_count": 159,
     "metadata": {},
     "output_type": "execute_result"
    },
    {
     "data": {
      "image/png": "[encoded data removed]",
      "text/plain": [
       "<Figure size 640x480 with 1 Axes>"
      ]
     },
     "metadata": {},
     "output_type": "display_data"
    }
   ],
   "source": [
    "y_pred_final.hist(bins = 20, label = 'RR prediction distribution')\n",
    "y_test_RR.RR.hist(alpha = 0.4, bins = 50, label = 'RR actual distribution')\n",
    "plt.legend()"
   ]
  },
  {
   "cell_type": "markdown",
   "id": "56b6442c-c194-4c24-a122-6610ff625d00",
   "metadata": {},
   "source": [
    "<br>\n",
    "\n",
    "## EAD Modelling"
   ]
  },
  {
   "cell_type": "markdown",
   "id": "a88d5d48-b7f4-4036-bb69-c38ae7af297a",
   "metadata": {},
   "source": [
    "### Exploring Dependent Varaible EAD\n",
    "\n",
    "Just like we did for LGD, we now plot a histogram of our EAD to see what distribution can we rely on in modelling."
   ]
  },
  {
   "cell_type": "code",
   "execution_count": 160,
   "id": "e6299b5c-b038-4657-89bb-7e772b8a822b",
   "metadata": {},
   "outputs": [
    {
     "data": {
      "text/plain": [
       "<Axes: >"
      ]
     },
     "execution_count": 160,
     "metadata": {},
     "output_type": "execute_result"
    },
    {
     "data": {
      "image/png": "[encoded data removed]",
      "text/plain": [
       "<Figure size 640x480 with 1 Axes>"
      ]
     },
     "metadata": {},
     "output_type": "display_data"
    }
   ],
   "source": [
    "df_defaulted.EAD.hist(bins = 50)"
   ]
  },
  {
   "cell_type": "markdown",
   "id": "8ebe89af-601b-4642-882d-e496a01ea65f",
   "metadata": {},
   "source": [
    "### EAD to Loan Amount Ratio (EADtLA)\n",
    "\n",
    "Instead of modelling EAD directly, regulators (including BASEL Regulations) often recommend modelling the ratio of **EAD to Total Loan Amount**, i.e. the ratio of amounts unpaid to the original loan amount at the time of default.\n",
    "\n",
    "This ratio is better for modelling purposes since:\n",
    "- it is bounded between 0-1. which is unbounded in terms of amounts,\n",
    "- Portfolio-Level Consistency: This ratio CCF ensures a standardized approach across different credit products and borrower segments."
   ]
  },
  {
   "cell_type": "code",
   "execution_count": 161,
   "id": "5450dabd-3931-475b-8e9e-e2e800e5d7af",
   "metadata": {},
   "outputs": [
    {
     "data": {
      "text/plain": [
       "count    42860.000000\n",
       "mean         0.733635\n",
       "std          0.200084\n",
       "min          0.000438\n",
       "25%          0.629787\n",
       "50%          0.788084\n",
       "75%          0.886624\n",
       "max          1.000000\n",
       "Name: EADtLA, dtype: float64"
      ]
     },
     "execution_count": 161,
     "metadata": {},
     "output_type": "execute_result"
    }
   ],
   "source": [
    "df_defaulted.loc[:, 'EADtLA'] = (df_defaulted['funded_amnt'] - df_defaulted['total_rec_prncp'])/df_defaulted['funded_amnt']\n",
    "df_defaulted.EADtLA.describe()"
   ]
  },
  {
   "cell_type": "code",
   "execution_count": 162,
   "id": "d36f410d-caf6-44aa-8135-da0b523cef27",
   "metadata": {},
   "outputs": [
    {
     "data": {
      "text/plain": [
       "<Axes: >"
      ]
     },
     "execution_count": 162,
     "metadata": {},
     "output_type": "execute_result"
    },
    {
     "data": {
      "image/png": "[encoded data removed]",
      "text/plain": [
       "<Figure size 640x480 with 1 Axes>"
      ]
     },
     "metadata": {},
     "output_type": "display_data"
    }
   ],
   "source": [
    "df_defaulted.EADtLA.hist(bins = 20)"
   ]
  },
  {
   "cell_type": "markdown",
   "id": "437ccbd9-d8c1-4916-bae9-300052503ac9",
   "metadata": {},
   "source": [
    "We create our training and testing data in a similar manner to the approach followed for LGD data preparation."
   ]
  },
  {
   "cell_type": "code",
   "execution_count": 163,
   "id": "8b5bfb97-c40e-42e3-b79a-0d0fbf89d714",
   "metadata": {},
   "outputs": [],
   "source": [
    "df_EADtLA = df_defaulted[['dti','funded_amnt', 'emp_length_int', 'term_int', 'last_payment_months',\n",
    "                  'mths_since_issue_d', 'mths_since_earliest_cr_line', 'mths_since_last_delinq', 'mths_since_last_record']]\n",
    "df_EADtLA = pd.concat([df_EADtLA, grade_dummies, home_own_dummies, verif_dummies], axis = 1)\n",
    "y_EADtLA = df_defaulted['EADtLA']"
   ]
  },
  {
   "cell_type": "code",
   "execution_count": 164,
   "id": "9dc35d25-e17c-4ac5-bdac-1dc844ce0c7e",
   "metadata": {},
   "outputs": [
    {
     "name": "stdout",
     "output_type": "stream",
     "text": [
      "(34288, 22)\n",
      "(8572, 22)\n",
      "(34288,)\n",
      "(8572,)\n"
     ]
    }
   ],
   "source": [
    "# Split data into training and test set\n",
    "X_train_EADtLA, X_test_EADtLA, y_train_EADtLA, y_test_EADtLA = train_test_split(df_EADtLA, y_EADtLA, train_size = 0.8, random_state = 1)\n",
    "\n",
    "\n",
    "# Adding constants to X_train_RR and X_test_RR\n",
    "X_train_EADtLA.insert(0, 'intercept', 1)\n",
    "X_test_EADtLA.insert(0, 'intercept', 1)\n",
    "\n",
    "print(X_train_EADtLA.shape)\n",
    "print(X_test_EADtLA.shape)\n",
    "print(y_train_EADtLA.shape)\n",
    "print(y_test_EADtLA.shape)"
   ]
  },
  {
   "cell_type": "code",
   "execution_count": 165,
   "id": "e0f30ec7-ac85-4012-9c7f-e31e983bebe3",
   "metadata": {},
   "outputs": [
    {
     "data": {
      "text/html": [
       "<table class=\"simpletable\">\n",
       "<caption>Generalized Linear Model Regression Results</caption>\n",
       "<tr>\n",
       "  <th>Dep. Variable:</th>        <td>EADtLA</td>      <th>  No. Observations:  </th>  <td> 34288</td> \n",
       "</tr>\n",
       "<tr>\n",
       "  <th>Model:</th>                  <td>GLM</td>       <th>  Df Residuals:      </th>  <td> 34266</td> \n",
       "</tr>\n",
       "<tr>\n",
       "  <th>Model Family:</th>        <td>Binomial</td>     <th>  Df Model:          </th>  <td>    21</td> \n",
       "</tr>\n",
       "<tr>\n",
       "  <th>Link Function:</th>         <td>Logit</td>      <th>  Scale:             </th> <td>  1.0000</td>\n",
       "</tr>\n",
       "<tr>\n",
       "  <th>Method:</th>                <td>IRLS</td>       <th>  Log-Likelihood:    </th> <td> -11498.</td>\n",
       "</tr>\n",
       "<tr>\n",
       "  <th>Date:</th>            <td>Fri, 04 Apr 2025</td> <th>  Deviance:          </th> <td>  705.15</td>\n",
       "</tr>\n",
       "<tr>\n",
       "  <th>Time:</th>                <td>02:57:22</td>     <th>  Pearson chi2:      </th>  <td>  871.</td> \n",
       "</tr>\n",
       "<tr>\n",
       "  <th>No. Iterations:</th>          <td>5</td>        <th>  Pseudo R-squ. (CS):</th>  <td>0.1691</td> \n",
       "</tr>\n",
       "<tr>\n",
       "  <th>Covariance Type:</th>     <td>nonrobust</td>    <th>                     </th>     <td> </td>   \n",
       "</tr>\n",
       "</table>\n",
       "<table class=\"simpletable\">\n",
       "<tr>\n",
       "                 <td></td>                   <th>coef</th>     <th>std err</th>      <th>z</th>      <th>P>|z|</th>  <th>[0.025</th>    <th>0.975]</th>  \n",
       "</tr>\n",
       "<tr>\n",
       "  <th>intercept</th>                      <td>    1.8978</td> <td>    0.111</td> <td>   17.053</td> <td> 0.000</td> <td>    1.680</td> <td>    2.116</td>\n",
       "</tr>\n",
       "<tr>\n",
       "  <th>dti</th>                            <td>   -0.0006</td> <td>    0.002</td> <td>   -0.311</td> <td> 0.756</td> <td>   -0.004</td> <td>    0.003</td>\n",
       "</tr>\n",
       "<tr>\n",
       "  <th>funded_amnt</th>                    <td>  7.27e-07</td> <td> 1.99e-06</td> <td>    0.365</td> <td> 0.715</td> <td>-3.18e-06</td> <td> 4.64e-06</td>\n",
       "</tr>\n",
       "<tr>\n",
       "  <th>emp_length_int</th>                 <td>   -0.0016</td> <td>    0.004</td> <td>   -0.433</td> <td> 0.665</td> <td>   -0.009</td> <td>    0.006</td>\n",
       "</tr>\n",
       "<tr>\n",
       "  <th>term_int</th>                       <td>    0.0443</td> <td>    0.002</td> <td>   27.326</td> <td> 0.000</td> <td>    0.041</td> <td>    0.047</td>\n",
       "</tr>\n",
       "<tr>\n",
       "  <th>last_payment_months</th>            <td>    0.1136</td> <td>    0.002</td> <td>   60.565</td> <td> 0.000</td> <td>    0.110</td> <td>    0.117</td>\n",
       "</tr>\n",
       "<tr>\n",
       "  <th>mths_since_issue_d</th>             <td>   -0.1095</td> <td>    0.002</td> <td>  -63.119</td> <td> 0.000</td> <td>   -0.113</td> <td>   -0.106</td>\n",
       "</tr>\n",
       "<tr>\n",
       "  <th>mths_since_earliest_cr_line</th>    <td>  2.17e-05</td> <td>    0.000</td> <td>    0.131</td> <td> 0.896</td> <td>   -0.000</td> <td>    0.000</td>\n",
       "</tr>\n",
       "<tr>\n",
       "  <th>mths_since_last_delinq</th>         <td>-7.594e-05</td> <td>    0.001</td> <td>   -0.125</td> <td> 0.900</td> <td>   -0.001</td> <td>    0.001</td>\n",
       "</tr>\n",
       "<tr>\n",
       "  <th>mths_since_last_record</th>         <td>-1.367e-05</td> <td>    0.000</td> <td>   -0.028</td> <td> 0.978</td> <td>   -0.001</td> <td>    0.001</td>\n",
       "</tr>\n",
       "<tr>\n",
       "  <th>Grade: _B</th>                      <td>    0.0842</td> <td>    0.058</td> <td>    1.463</td> <td> 0.144</td> <td>   -0.029</td> <td>    0.197</td>\n",
       "</tr>\n",
       "<tr>\n",
       "  <th>Grade: _C</th>                      <td>    0.1402</td> <td>    0.057</td> <td>    2.440</td> <td> 0.015</td> <td>    0.028</td> <td>    0.253</td>\n",
       "</tr>\n",
       "<tr>\n",
       "  <th>Grade: _D</th>                      <td>    0.1976</td> <td>    0.060</td> <td>    3.305</td> <td> 0.001</td> <td>    0.080</td> <td>    0.315</td>\n",
       "</tr>\n",
       "<tr>\n",
       "  <th>Grade: _E</th>                      <td>    0.2920</td> <td>    0.069</td> <td>    4.217</td> <td> 0.000</td> <td>    0.156</td> <td>    0.428</td>\n",
       "</tr>\n",
       "<tr>\n",
       "  <th>Grade: _F</th>                      <td>    0.3510</td> <td>    0.086</td> <td>    4.061</td> <td> 0.000</td> <td>    0.182</td> <td>    0.520</td>\n",
       "</tr>\n",
       "<tr>\n",
       "  <th>Grade: _G</th>                      <td>    0.3793</td> <td>    0.136</td> <td>    2.780</td> <td> 0.005</td> <td>    0.112</td> <td>    0.647</td>\n",
       "</tr>\n",
       "<tr>\n",
       "  <th>Home_Own: _NONE</th>                <td>    0.0766</td> <td>    1.196</td> <td>    0.064</td> <td> 0.949</td> <td>   -2.268</td> <td>    2.421</td>\n",
       "</tr>\n",
       "<tr>\n",
       "  <th>Home_Own: _OTHER</th>               <td>   -0.0240</td> <td>    0.413</td> <td>   -0.058</td> <td> 0.954</td> <td>   -0.834</td> <td>    0.786</td>\n",
       "</tr>\n",
       "<tr>\n",
       "  <th>Home_Own: _OWN</th>                 <td>    0.0046</td> <td>    0.051</td> <td>    0.091</td> <td> 0.928</td> <td>   -0.095</td> <td>    0.104</td>\n",
       "</tr>\n",
       "<tr>\n",
       "  <th>Home_Own: _RENT</th>                <td>    0.0084</td> <td>    0.030</td> <td>    0.280</td> <td> 0.779</td> <td>   -0.050</td> <td>    0.067</td>\n",
       "</tr>\n",
       "<tr>\n",
       "  <th>Verif_Status: _Source Verified</th> <td>    0.0205</td> <td>    0.037</td> <td>    0.548</td> <td> 0.583</td> <td>   -0.053</td> <td>    0.094</td>\n",
       "</tr>\n",
       "<tr>\n",
       "  <th>Verif_Status: _Verified</th>        <td>    0.0227</td> <td>    0.036</td> <td>    0.640</td> <td> 0.522</td> <td>   -0.047</td> <td>    0.092</td>\n",
       "</tr>\n",
       "</table>"
      ],
      "text/latex": [
       "\\begin{center}\n",
       "\\begin{tabular}{lclc}\n",
       "\\toprule\n",
       "\\textbf{Dep. Variable:}                   &      EADtLA      & \\textbf{  No. Observations:  } &    34288    \\\\\n",
       "\\textbf{Model:}                           &       GLM        & \\textbf{  Df Residuals:      } &    34266    \\\\\n",
       "\\textbf{Model Family:}                    &     Binomial     & \\textbf{  Df Model:          } &       21    \\\\\n",
       "\\textbf{Link Function:}                   &      Logit       & \\textbf{  Scale:             } &    1.0000   \\\\\n",
       "\\textbf{Method:}                          &       IRLS       & \\textbf{  Log-Likelihood:    } &   -11498.   \\\\\n",
       "\\textbf{Date:}                            & Fri, 04 Apr 2025 & \\textbf{  Deviance:          } &    705.15   \\\\\n",
       "\\textbf{Time:}                            &     02:57:22     & \\textbf{  Pearson chi2:      } &     871.    \\\\\n",
       "\\textbf{No. Iterations:}                  &        5         & \\textbf{  Pseudo R-squ. (CS):} &   0.1691    \\\\\n",
       "\\textbf{Covariance Type:}                 &    nonrobust     & \\textbf{                     } &             \\\\\n",
       "\\bottomrule\n",
       "\\end{tabular}\n",
       "\\begin{tabular}{lcccccc}\n",
       "                                          & \\textbf{coef} & \\textbf{std err} & \\textbf{z} & \\textbf{P$> |$z$|$} & \\textbf{[0.025} & \\textbf{0.975]}  \\\\\n",
       "\\midrule\n",
       "\\textbf{intercept}                        &       1.8978  &        0.111     &    17.053  &         0.000        &        1.680    &        2.116     \\\\\n",
       "\\textbf{dti}                              &      -0.0006  &        0.002     &    -0.311  &         0.756        &       -0.004    &        0.003     \\\\\n",
       "\\textbf{funded\\_amnt}                     &     7.27e-07  &     1.99e-06     &     0.365  &         0.715        &    -3.18e-06    &     4.64e-06     \\\\\n",
       "\\textbf{emp\\_length\\_int}                 &      -0.0016  &        0.004     &    -0.433  &         0.665        &       -0.009    &        0.006     \\\\\n",
       "\\textbf{term\\_int}                        &       0.0443  &        0.002     &    27.326  &         0.000        &        0.041    &        0.047     \\\\\n",
       "\\textbf{last\\_payment\\_months}            &       0.1136  &        0.002     &    60.565  &         0.000        &        0.110    &        0.117     \\\\\n",
       "\\textbf{mths\\_since\\_issue\\_d}            &      -0.1095  &        0.002     &   -63.119  &         0.000        &       -0.113    &       -0.106     \\\\\n",
       "\\textbf{mths\\_since\\_earliest\\_cr\\_line}  &     2.17e-05  &        0.000     &     0.131  &         0.896        &       -0.000    &        0.000     \\\\\n",
       "\\textbf{mths\\_since\\_last\\_delinq}        &   -7.594e-05  &        0.001     &    -0.125  &         0.900        &       -0.001    &        0.001     \\\\\n",
       "\\textbf{mths\\_since\\_last\\_record}        &   -1.367e-05  &        0.000     &    -0.028  &         0.978        &       -0.001    &        0.001     \\\\\n",
       "\\textbf{Grade: \\_B}                       &       0.0842  &        0.058     &     1.463  &         0.144        &       -0.029    &        0.197     \\\\\n",
       "\\textbf{Grade: \\_C}                       &       0.1402  &        0.057     &     2.440  &         0.015        &        0.028    &        0.253     \\\\\n",
       "\\textbf{Grade: \\_D}                       &       0.1976  &        0.060     &     3.305  &         0.001        &        0.080    &        0.315     \\\\\n",
       "\\textbf{Grade: \\_E}                       &       0.2920  &        0.069     &     4.217  &         0.000        &        0.156    &        0.428     \\\\\n",
       "\\textbf{Grade: \\_F}                       &       0.3510  &        0.086     &     4.061  &         0.000        &        0.182    &        0.520     \\\\\n",
       "\\textbf{Grade: \\_G}                       &       0.3793  &        0.136     &     2.780  &         0.005        &        0.112    &        0.647     \\\\\n",
       "\\textbf{Home\\_Own: \\_NONE}                &       0.0766  &        1.196     &     0.064  &         0.949        &       -2.268    &        2.421     \\\\\n",
       "\\textbf{Home\\_Own: \\_OTHER}               &      -0.0240  &        0.413     &    -0.058  &         0.954        &       -0.834    &        0.786     \\\\\n",
       "\\textbf{Home\\_Own: \\_OWN}                 &       0.0046  &        0.051     &     0.091  &         0.928        &       -0.095    &        0.104     \\\\\n",
       "\\textbf{Home\\_Own: \\_RENT}                &       0.0084  &        0.030     &     0.280  &         0.779        &       -0.050    &        0.067     \\\\\n",
       "\\textbf{Verif\\_Status: \\_Source Verified} &       0.0205  &        0.037     &     0.548  &         0.583        &       -0.053    &        0.094     \\\\\n",
       "\\textbf{Verif\\_Status: \\_Verified}        &       0.0227  &        0.036     &     0.640  &         0.522        &       -0.047    &        0.092     \\\\\n",
       "\\bottomrule\n",
       "\\end{tabular}\n",
       "%\\caption{Generalized Linear Model Regression Results}\n",
       "\\end{center}"
      ],
      "text/plain": [
       "<class 'statsmodels.iolib.summary.Summary'>\n",
       "\"\"\"\n",
       "                 Generalized Linear Model Regression Results                  \n",
       "==============================================================================\n",
       "Dep. Variable:                 EADtLA   No. Observations:                34288\n",
       "Model:                            GLM   Df Residuals:                    34266\n",
       "Model Family:                Binomial   Df Model:                           21\n",
       "Link Function:                  Logit   Scale:                          1.0000\n",
       "Method:                          IRLS   Log-Likelihood:                -11498.\n",
       "Date:                Fri, 04 Apr 2025   Deviance:                       705.15\n",
       "Time:                        02:57:22   Pearson chi2:                     871.\n",
       "No. Iterations:                     5   Pseudo R-squ. (CS):             0.1691\n",
       "Covariance Type:            nonrobust                                         \n",
       "==================================================================================================\n",
       "                                     coef    std err          z      P>|z|      [0.025      0.975]\n",
       "--------------------------------------------------------------------------------------------------\n",
       "intercept                          1.8978      0.111     17.053      0.000       1.680       2.116\n",
       "dti                               -0.0006      0.002     -0.311      0.756      -0.004       0.003\n",
       "funded_amnt                      7.27e-07   1.99e-06      0.365      0.715   -3.18e-06    4.64e-06\n",
       "emp_length_int                    -0.0016      0.004     -0.433      0.665      -0.009       0.006\n",
       "term_int                           0.0443      0.002     27.326      0.000       0.041       0.047\n",
       "last_payment_months                0.1136      0.002     60.565      0.000       0.110       0.117\n",
       "mths_since_issue_d                -0.1095      0.002    -63.119      0.000      -0.113      -0.106\n",
       "mths_since_earliest_cr_line      2.17e-05      0.000      0.131      0.896      -0.000       0.000\n",
       "mths_since_last_delinq         -7.594e-05      0.001     -0.125      0.900      -0.001       0.001\n",
       "mths_since_last_record         -1.367e-05      0.000     -0.028      0.978      -0.001       0.001\n",
       "Grade: _B                          0.0842      0.058      1.463      0.144      -0.029       0.197\n",
       "Grade: _C                          0.1402      0.057      2.440      0.015       0.028       0.253\n",
       "Grade: _D                          0.1976      0.060      3.305      0.001       0.080       0.315\n",
       "Grade: _E                          0.2920      0.069      4.217      0.000       0.156       0.428\n",
       "Grade: _F                          0.3510      0.086      4.061      0.000       0.182       0.520\n",
       "Grade: _G                          0.3793      0.136      2.780      0.005       0.112       0.647\n",
       "Home_Own: _NONE                    0.0766      1.196      0.064      0.949      -2.268       2.421\n",
       "Home_Own: _OTHER                  -0.0240      0.413     -0.058      0.954      -0.834       0.786\n",
       "Home_Own: _OWN                     0.0046      0.051      0.091      0.928      -0.095       0.104\n",
       "Home_Own: _RENT                    0.0084      0.030      0.280      0.779      -0.050       0.067\n",
       "Verif_Status: _Source Verified     0.0205      0.037      0.548      0.583      -0.053       0.094\n",
       "Verif_Status: _Verified            0.0227      0.036      0.640      0.522      -0.047       0.092\n",
       "==================================================================================================\n",
       "\"\"\""
      ]
     },
     "execution_count": 165,
     "metadata": {},
     "output_type": "execute_result"
    }
   ],
   "source": [
    "# Define the Beta regression model using statsmodels\n",
    "EAD_model = sm.GLM(y_train_EADtLA, X_train_EADtLA.astype(float), family=sm.families.Binomial()).fit()\n",
    "\n",
    "EAD_model.summary()"
   ]
  },
  {
   "cell_type": "markdown",
   "id": "1aa9e34f-7fa0-440c-ac3e-d39672ce7d4f",
   "metadata": {},
   "source": [
    "<br>\n",
    "\n",
    "### Prediction performance of EAD_to_Loan ratio"
   ]
  },
  {
   "cell_type": "markdown",
   "id": "4ab473e5-a27f-47ee-b717-47d181bee7fb",
   "metadata": {},
   "source": [
    "The correlation between the predictions and actual EAD_to_Loan ratio is very high at 0.96 with both vectors having very similar distribution."
   ]
  },
  {
   "cell_type": "code",
   "execution_count": 166,
   "id": "333c6bcd-ed8c-4623-a917-dee5fdbc7a67",
   "metadata": {},
   "outputs": [
    {
     "data": {
      "text/html": [
       "<div>\n",
       "<style scoped>\n",
       "    .dataframe tbody tr th:only-of-type {\n",
       "        vertical-align: middle;\n",
       "    }\n",
       "\n",
       "    .dataframe tbody tr th {\n",
       "        vertical-align: top;\n",
       "    }\n",
       "\n",
       "    .dataframe thead th {\n",
       "        text-align: right;\n",
       "    }\n",
       "</style>\n",
       "<table border=\"1\" class=\"dataframe\">\n",
       "  <thead>\n",
       "    <tr style=\"text-align: right;\">\n",
       "      <th></th>\n",
       "      <th>pred</th>\n",
       "      <th>actual</th>\n",
       "    </tr>\n",
       "  </thead>\n",
       "  <tbody>\n",
       "    <tr>\n",
       "      <th>pred</th>\n",
       "      <td>1.000000</td>\n",
       "      <td>0.959084</td>\n",
       "    </tr>\n",
       "    <tr>\n",
       "      <th>actual</th>\n",
       "      <td>0.959084</td>\n",
       "      <td>1.000000</td>\n",
       "    </tr>\n",
       "  </tbody>\n",
       "</table>\n",
       "</div>"
      ],
      "text/plain": [
       "            pred    actual\n",
       "pred    1.000000  0.959084\n",
       "actual  0.959084  1.000000"
      ]
     },
     "execution_count": 166,
     "metadata": {},
     "output_type": "execute_result"
    }
   ],
   "source": [
    "EAD_comp = pd.DataFrame({'pred': EAD_model.predict(X_test_EADtLA.astype(float)), 'actual': y_test_EADtLA})\n",
    "EAD_comp.corr()"
   ]
  },
  {
   "cell_type": "code",
   "execution_count": 167,
   "id": "65e9b534-608e-41f7-9f72-5bcd2cc5dd5f",
   "metadata": {},
   "outputs": [
    {
     "data": {
      "text/plain": [
       "Text(0.5, 1.0, 'Distribution of EAD to Loan_Amount Ratio')"
      ]
     },
     "execution_count": 167,
     "metadata": {},
     "output_type": "execute_result"
    },
    {
     "data": {
      "image/png": "[encoded data removed]",
      "text/plain": [
       "<Figure size 640x480 with 1 Axes>"
      ]
     },
     "metadata": {},
     "output_type": "display_data"
    }
   ],
   "source": [
    "EAD_comp.pred.hist(bins = 20, label = 'Predictions Distribution')\n",
    "EAD_comp.actual.hist(bins = 20, alpha = 0.5, label = 'Actual Distribution')\n",
    "plt.title('Distribution of EAD to Loan_Amount Ratio')"
   ]
  },
  {
   "cell_type": "markdown",
   "id": "d866088e-d003-457a-a6f6-476e668e0849",
   "metadata": {},
   "source": [
    "<br>\n",
    "\n",
    "### Saving the model"
   ]
  },
  {
   "cell_type": "code",
   "execution_count": 168,
   "id": "3f60ad5c-67d4-42bd-8a25-5077f996498c",
   "metadata": {},
   "outputs": [],
   "source": [
    "with open('EAD_model.pkl', 'wb') as f:\n",
    "    pickle.dump(EAD_model, f)"
   ]
  },
  {
   "cell_type": "code",
   "execution_count": null,
   "id": "65e175b0-e7b1-4358-a02b-32b650c6f887",
   "metadata": {},
   "outputs": [],
   "source": []
  }
 ],
 "metadata": {
  "kernelspec": {
   "display_name": "Python 3 (ipykernel)",
   "language": "python",
   "name": "python3"
  },
  "language_info": {
   "codemirror_mode": {
    "name": "ipython",
    "version": 3
   },
   "file_extension": ".py",
   "mimetype": "text/x-python",
   "name": "python",
   "nbconvert_exporter": "python",
   "pygments_lexer": "ipython3",
   "version": "3.12.3"
  }
 },
 "nbformat": 4,
 "nbformat_minor": 5
}
